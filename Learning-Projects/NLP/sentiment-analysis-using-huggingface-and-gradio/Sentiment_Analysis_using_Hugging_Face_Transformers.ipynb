{
 "cells": [
  {
   "cell_type": "markdown",
   "id": "6266192b-cc0a-4c90-80bb-9d24c786ac1c",
   "metadata": {},
   "source": [
    "**Sentiment Analysis using Hugging Face Transformers**"
   ]
  },
  {
   "cell_type": "markdown",
   "id": "b9c220a2-9149-40d3-9b52-7c2c5d804e8d",
   "metadata": {},
   "source": [
    "**Objective:**\n",
    "\n",
    "Build a sentiment analysis app that detects positive or negative sentiment in user-inputted text using Hugging Face Transformers, and deploy it with a stylish Gradio UI.\n",
    "\n"
   ]
  },
  {
   "cell_type": "markdown",
   "id": "c5420295-4516-43bc-8267-c1b89508550f",
   "metadata": {},
   "source": [
    "**Environment Setup:**\n",
    "\n",
    "Use Google Colab with GPU runtime for faster performance.\n",
    "``` bash\n",
    "🔁 Go to: Runtime > Change runtime type > GPU\n",
    "```"
   ]
  },
  {
   "cell_type": "code",
   "execution_count": null,
   "id": "3ae664ae-6f7b-4253-8ecb-2e104106d5fd",
   "metadata": {},
   "outputs": [],
   "source": [
    "# !pip install transformers gradio"
   ]
  },
  {
   "cell_type": "markdown",
   "id": "d925007a-eede-48ef-93ee-0f7cfbbb0c67",
   "metadata": {},
   "source": [
    "**Code – Sentiment Analysis**"
   ]
  },
  {
   "cell_type": "code",
   "execution_count": 1,
   "id": "419d7cac-d98f-4870-a940-18ff8b398727",
   "metadata": {},
   "outputs": [],
   "source": [
    "from transformers import pipeline\n",
    "import gradio as gr"
   ]
  },
  {
   "cell_type": "code",
   "execution_count": 2,
   "id": "44512f81-618c-439d-bb8b-8403d71b56a7",
   "metadata": {},
   "outputs": [
    {
     "name": "stderr",
     "output_type": "stream",
     "text": [
      "No model was supplied, defaulted to distilbert/distilbert-base-uncased-finetuned-sst-2-english and revision 714eb0f (https://huggingface.co/distilbert/distilbert-base-uncased-finetuned-sst-2-english).\n",
      "Using a pipeline without specifying a model name and revision in production is not recommended.\n",
      "Device set to use cpu\n"
     ]
    }
   ],
   "source": [
    "# Load the sentiment classifier\n",
    "classifier = pipeline(\"sentiment-analysis\")"
   ]
  },
  {
   "cell_type": "code",
   "execution_count": 3,
   "id": "679f352d-63af-4c67-989c-0a1884cfa1c3",
   "metadata": {},
   "outputs": [],
   "source": [
    "# Define the function\n",
    "def analyze_sentiment(text):\n",
    "    result = classifier(text)[0]\n",
    "    return f\"🧠 Sentiment: **{result['label']}**\\n\\n🔢 Confidence: **{round(result['score'] * 100, 2)}%**\""
   ]
  },
  {
   "cell_type": "code",
   "execution_count": 4,
   "id": "347b6342-0ad9-4193-8f4f-1b5748f100c0",
   "metadata": {},
   "outputs": [
    {
     "name": "stdout",
     "output_type": "stream",
     "text": [
      "* Running on local URL:  http://127.0.0.1:7860\n",
      "* To create a public link, set `share=True` in `launch()`.\n"
     ]
    },
    {
     "data": {
      "text/html": [
       "<div><iframe src=\"http://127.0.0.1:7860/\" width=\"100%\" height=\"500\" allow=\"autoplay; camera; microphone; clipboard-read; clipboard-write;\" frameborder=\"0\" allowfullscreen></iframe></div>"
      ],
      "text/plain": [
       "<IPython.core.display.HTML object>"
      ]
     },
     "metadata": {},
     "output_type": "display_data"
    },
    {
     "data": {
      "text/plain": []
     },
     "execution_count": 4,
     "metadata": {},
     "output_type": "execute_result"
    }
   ],
   "source": [
    "# Launch Gradio app with improved UI\n",
    "gr.Interface(\n",
    "    fn=analyze_sentiment,\n",
    "    inputs=gr.Textbox(lines=3, placeholder=\"Type something here...\", label=\"Your Sentence\"),\n",
    "    outputs=gr.Markdown(),\n",
    "    title=\"💬 Sentiment Analyzer\",\n",
    "    description=\"This app uses a pretrained Hugging Face Transformer to detect whether a sentence is Positive or Negative.\",\n",
    "    theme=\"default\"\n",
    ").launch()"
   ]
  },
  {
   "cell_type": "code",
   "execution_count": null,
   "id": "ddaf1e50-8a50-42f2-ab95-c7bfa660884b",
   "metadata": {},
   "outputs": [],
   "source": []
  }
 ],
 "metadata": {
  "kernelspec": {
   "display_name": "Python 3 (ipykernel)",
   "language": "python",
   "name": "python3"
  },
  "language_info": {
   "codemirror_mode": {
    "name": "ipython",
    "version": 3
   },
   "file_extension": ".py",
   "mimetype": "text/x-python",
   "name": "python",
   "nbconvert_exporter": "python",
   "pygments_lexer": "ipython3",
   "version": "3.13.5"
  }
 },
 "nbformat": 4,
 "nbformat_minor": 5
}
