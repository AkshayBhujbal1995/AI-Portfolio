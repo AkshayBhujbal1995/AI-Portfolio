{
 "cells": [
  {
   "cell_type": "markdown",
   "id": "4b3a6363-7d79-4890-81f5-8b8c82bd05c5",
   "metadata": {},
   "source": [
    "**Text Generation Using Google Generative AI (Gemini)**\n",
    "\n",
    "This project demonstrates how to build a simple **text generation system** using **Google's Generative AI (Gemini 2.5 Flash model)**.  \n",
    "We connect to Gemini using Python, send a prompt, and receive an AI-generated response.\n",
    "\n",
    "\n",
    "**What You'll Learn**\n",
    "\n",
    "- What is Generative AI and how it works\n",
    "- How to use `google-generativeai` Python SDK\n",
    "- How to send text prompts and receive creative or informative replies\n",
    "- How to print, style, and format model outputs using `IPython.display`\n",
    "\n",
    "\n",
    "\n",
    "**Technologies Used**\n",
    "\n",
    "- Python\n",
    "- Google Generative AI (`google-generativeai`)\n",
    "- Gemini 2.5 Flash model\n",
    "- IPython for Markdown output\n",
    "\n",
    "\n",
    "\n",
    "**Setup Instructions**\n",
    "```bash\n",
    "pip install -U google-generativeai\n",
    "```\n",
    "\n",
    "Make sure to get your API key from:\n",
    "\n",
    "- Link : https://makersuite.google.com/app/apikey\n",
    "- Enable Generative Language API in Google Cloud."
   ]
  },
  {
   "cell_type": "markdown",
   "id": "6fd6fad2-3b96-45c6-80f8-e7eb9e34ee0e",
   "metadata": {},
   "source": [
    "# Install Required Library\n",
    "Install Google Generative AI SDK (only needs to be run once)"
   ]
  },
  {
   "cell_type": "code",
   "execution_count": 2,
   "id": "77c02e8f-a3d8-4515-a7c6-bda081749794",
   "metadata": {},
   "outputs": [
    {
     "name": "stdout",
     "output_type": "stream",
     "text": [
      "Collecting google-generativeai\n",
      "  Using cached google_generativeai-0.8.5-py3-none-any.whl.metadata (3.9 kB)\n",
      "Collecting google-ai-generativelanguage==0.6.15 (from google-generativeai)\n",
      "  Using cached google_ai_generativelanguage-0.6.15-py3-none-any.whl.metadata (5.7 kB)\n",
      "Collecting google-api-core (from google-generativeai)\n",
      "  Using cached google_api_core-2.25.1-py3-none-any.whl.metadata (3.0 kB)\n",
      "Collecting google-api-python-client (from google-generativeai)\n",
      "  Using cached google_api_python_client-2.176.0-py3-none-any.whl.metadata (7.0 kB)\n",
      "Collecting google-auth>=2.15.0 (from google-generativeai)\n",
      "  Using cached google_auth-2.40.3-py2.py3-none-any.whl.metadata (6.2 kB)\n",
      "Requirement already satisfied: protobuf in c:\\users\\lenovo\\anaconda3\\lib\\site-packages (from google-generativeai) (5.29.3)\n",
      "Requirement already satisfied: pydantic in c:\\users\\lenovo\\anaconda3\\lib\\site-packages (from google-generativeai) (2.10.3)\n",
      "Requirement already satisfied: tqdm in c:\\users\\lenovo\\anaconda3\\lib\\site-packages (from google-generativeai) (4.67.1)\n",
      "Requirement already satisfied: typing-extensions in c:\\users\\lenovo\\anaconda3\\lib\\site-packages (from google-generativeai) (4.12.2)\n",
      "Collecting proto-plus<2.0.0dev,>=1.22.3 (from google-ai-generativelanguage==0.6.15->google-generativeai)\n",
      "  Using cached proto_plus-1.26.1-py3-none-any.whl.metadata (2.2 kB)\n",
      "Collecting googleapis-common-protos<2.0.0,>=1.56.2 (from google-api-core->google-generativeai)\n",
      "  Using cached googleapis_common_protos-1.70.0-py3-none-any.whl.metadata (9.3 kB)\n",
      "Requirement already satisfied: requests<3.0.0,>=2.18.0 in c:\\users\\lenovo\\anaconda3\\lib\\site-packages (from google-api-core->google-generativeai) (2.32.3)\n",
      "Collecting grpcio<2.0.0,>=1.33.2 (from google-api-core[grpc]!=2.0.*,!=2.1.*,!=2.10.*,!=2.2.*,!=2.3.*,!=2.4.*,!=2.5.*,!=2.6.*,!=2.7.*,!=2.8.*,!=2.9.*,<3.0.0dev,>=1.34.1->google-ai-generativelanguage==0.6.15->google-generativeai)\n",
      "  Using cached grpcio-1.73.1-cp313-cp313-win_amd64.whl.metadata (4.0 kB)\n",
      "Collecting grpcio-status<2.0.0,>=1.33.2 (from google-api-core[grpc]!=2.0.*,!=2.1.*,!=2.10.*,!=2.2.*,!=2.3.*,!=2.4.*,!=2.5.*,!=2.6.*,!=2.7.*,!=2.8.*,!=2.9.*,<3.0.0dev,>=1.34.1->google-ai-generativelanguage==0.6.15->google-generativeai)\n",
      "  Using cached grpcio_status-1.73.1-py3-none-any.whl.metadata (1.1 kB)\n",
      "Requirement already satisfied: cachetools<6.0,>=2.0.0 in c:\\users\\lenovo\\anaconda3\\lib\\site-packages (from google-auth>=2.15.0->google-generativeai) (5.5.1)\n",
      "Requirement already satisfied: pyasn1-modules>=0.2.1 in c:\\users\\lenovo\\anaconda3\\lib\\site-packages (from google-auth>=2.15.0->google-generativeai) (0.2.8)\n",
      "Collecting rsa<5,>=3.1.4 (from google-auth>=2.15.0->google-generativeai)\n",
      "  Using cached rsa-4.9.1-py3-none-any.whl.metadata (5.6 kB)\n",
      "INFO: pip is looking at multiple versions of grpcio-status to determine which version is compatible with other requirements. This could take a while.\n",
      "Collecting grpcio-status<2.0.0,>=1.33.2 (from google-api-core[grpc]!=2.0.*,!=2.1.*,!=2.10.*,!=2.2.*,!=2.3.*,!=2.4.*,!=2.5.*,!=2.6.*,!=2.7.*,!=2.8.*,!=2.9.*,<3.0.0dev,>=1.34.1->google-ai-generativelanguage==0.6.15->google-generativeai)\n",
      "  Using cached grpcio_status-1.73.0-py3-none-any.whl.metadata (1.1 kB)\n",
      "  Using cached grpcio_status-1.72.2-py3-none-any.whl.metadata (1.1 kB)\n",
      "  Using cached grpcio_status-1.72.1-py3-none-any.whl.metadata (1.1 kB)\n",
      "  Using cached grpcio_status-1.71.2-py3-none-any.whl.metadata (1.1 kB)\n",
      "Requirement already satisfied: charset-normalizer<4,>=2 in c:\\users\\lenovo\\anaconda3\\lib\\site-packages (from requests<3.0.0,>=2.18.0->google-api-core->google-generativeai) (3.3.2)\n",
      "Requirement already satisfied: idna<4,>=2.5 in c:\\users\\lenovo\\anaconda3\\lib\\site-packages (from requests<3.0.0,>=2.18.0->google-api-core->google-generativeai) (3.7)\n",
      "Requirement already satisfied: urllib3<3,>=1.21.1 in c:\\users\\lenovo\\anaconda3\\lib\\site-packages (from requests<3.0.0,>=2.18.0->google-api-core->google-generativeai) (2.3.0)\n",
      "Requirement already satisfied: certifi>=2017.4.17 in c:\\users\\lenovo\\anaconda3\\lib\\site-packages (from requests<3.0.0,>=2.18.0->google-api-core->google-generativeai) (2025.4.26)\n",
      "Requirement already satisfied: pyasn1>=0.1.3 in c:\\users\\lenovo\\anaconda3\\lib\\site-packages (from rsa<5,>=3.1.4->google-auth>=2.15.0->google-generativeai) (0.4.8)\n",
      "Collecting httplib2<1.0.0,>=0.19.0 (from google-api-python-client->google-generativeai)\n",
      "  Using cached httplib2-0.22.0-py3-none-any.whl.metadata (2.6 kB)\n",
      "Collecting google-auth-httplib2<1.0.0,>=0.2.0 (from google-api-python-client->google-generativeai)\n",
      "  Using cached google_auth_httplib2-0.2.0-py2.py3-none-any.whl.metadata (2.2 kB)\n",
      "Collecting uritemplate<5,>=3.0.1 (from google-api-python-client->google-generativeai)\n",
      "  Using cached uritemplate-4.2.0-py3-none-any.whl.metadata (2.6 kB)\n",
      "Requirement already satisfied: pyparsing!=3.0.0,!=3.0.1,!=3.0.2,!=3.0.3,<4,>=2.4.2 in c:\\users\\lenovo\\anaconda3\\lib\\site-packages (from httplib2<1.0.0,>=0.19.0->google-api-python-client->google-generativeai) (3.2.0)\n",
      "Requirement already satisfied: annotated-types>=0.6.0 in c:\\users\\lenovo\\anaconda3\\lib\\site-packages (from pydantic->google-generativeai) (0.6.0)\n",
      "Requirement already satisfied: pydantic-core==2.27.1 in c:\\users\\lenovo\\anaconda3\\lib\\site-packages (from pydantic->google-generativeai) (2.27.1)\n",
      "Requirement already satisfied: colorama in c:\\users\\lenovo\\anaconda3\\lib\\site-packages (from tqdm->google-generativeai) (0.4.6)\n",
      "Using cached google_generativeai-0.8.5-py3-none-any.whl (155 kB)\n",
      "Using cached google_ai_generativelanguage-0.6.15-py3-none-any.whl (1.3 MB)\n",
      "Using cached google_api_core-2.25.1-py3-none-any.whl (160 kB)\n",
      "Using cached google_auth-2.40.3-py2.py3-none-any.whl (216 kB)\n",
      "Using cached googleapis_common_protos-1.70.0-py3-none-any.whl (294 kB)\n",
      "Using cached grpcio-1.73.1-cp313-cp313-win_amd64.whl (4.3 MB)\n",
      "Using cached grpcio_status-1.71.2-py3-none-any.whl (14 kB)\n",
      "Using cached proto_plus-1.26.1-py3-none-any.whl (50 kB)\n",
      "Using cached rsa-4.9.1-py3-none-any.whl (34 kB)\n",
      "Using cached google_api_python_client-2.176.0-py3-none-any.whl (13.7 MB)\n",
      "Using cached google_auth_httplib2-0.2.0-py2.py3-none-any.whl (9.3 kB)\n",
      "Using cached httplib2-0.22.0-py3-none-any.whl (96 kB)\n",
      "Using cached uritemplate-4.2.0-py3-none-any.whl (11 kB)\n",
      "Installing collected packages: uritemplate, rsa, proto-plus, httplib2, grpcio, googleapis-common-protos, grpcio-status, google-auth, google-auth-httplib2, google-api-core, google-api-python-client, google-ai-generativelanguage, google-generativeai\n",
      "\n",
      "   --- ------------------------------------  1/13 [rsa]\n",
      "   ------ ---------------------------------  2/13 [proto-plus]\n",
      "   ------------ ---------------------------  4/13 [grpcio]\n",
      "   ------------ ---------------------------  4/13 [grpcio]\n",
      "   ------------ ---------------------------  4/13 [grpcio]\n",
      "   ------------ ---------------------------  4/13 [grpcio]\n",
      "   ------------ ---------------------------  4/13 [grpcio]\n",
      "   --------------- ------------------------  5/13 [googleapis-common-protos]\n",
      "   --------------- ------------------------  5/13 [googleapis-common-protos]\n",
      "   --------------- ------------------------  5/13 [googleapis-common-protos]\n",
      "   ------------------ ---------------------  6/13 [grpcio-status]\n",
      "   --------------------- ------------------  7/13 [google-auth]\n",
      "   --------------------- ------------------  7/13 [google-auth]\n",
      "   --------------------- ------------------  7/13 [google-auth]\n",
      "   --------------------- ------------------  7/13 [google-auth]\n",
      "   --------------------------- ------------  9/13 [google-api-core]\n",
      "   --------------------------- ------------  9/13 [google-api-core]\n",
      "   --------------------------- ------------  9/13 [google-api-core]\n",
      "   --------------------------- ------------  9/13 [google-api-core]\n",
      "   ------------------------------ --------- 10/13 [google-api-python-client]\n",
      "   ------------------------------ --------- 10/13 [google-api-python-client]\n",
      "   ------------------------------ --------- 10/13 [google-api-python-client]\n",
      "   ------------------------------ --------- 10/13 [google-api-python-client]\n",
      "   ------------------------------ --------- 10/13 [google-api-python-client]\n",
      "   ------------------------------ --------- 10/13 [google-api-python-client]\n",
      "   ------------------------------ --------- 10/13 [google-api-python-client]\n",
      "   ------------------------------ --------- 10/13 [google-api-python-client]\n",
      "   ------------------------------ --------- 10/13 [google-api-python-client]\n",
      "   ------------------------------ --------- 10/13 [google-api-python-client]\n",
      "   --------------------------------- ----- 11/13 [google-ai-generativelanguage]\n",
      "   --------------------------------- ----- 11/13 [google-ai-generativelanguage]\n",
      "   --------------------------------- ----- 11/13 [google-ai-generativelanguage]\n",
      "   --------------------------------- ----- 11/13 [google-ai-generativelanguage]\n",
      "   --------------------------------- ----- 11/13 [google-ai-generativelanguage]\n",
      "   --------------------------------- ----- 11/13 [google-ai-generativelanguage]\n",
      "   --------------------------------- ----- 11/13 [google-ai-generativelanguage]\n",
      "   --------------------------------- ----- 11/13 [google-ai-generativelanguage]\n",
      "   --------------------------------- ----- 11/13 [google-ai-generativelanguage]\n",
      "   --------------------------------- ----- 11/13 [google-ai-generativelanguage]\n",
      "   --------------------------------- ----- 11/13 [google-ai-generativelanguage]\n",
      "   --------------------------------- ----- 11/13 [google-ai-generativelanguage]\n",
      "   --------------------------------- ----- 11/13 [google-ai-generativelanguage]\n",
      "   --------------------------------- ----- 11/13 [google-ai-generativelanguage]\n",
      "   --------------------------------- ----- 11/13 [google-ai-generativelanguage]\n",
      "   --------------------------------- ----- 11/13 [google-ai-generativelanguage]\n",
      "   --------------------------------- ----- 11/13 [google-ai-generativelanguage]\n",
      "   --------------------------------- ----- 11/13 [google-ai-generativelanguage]\n",
      "   --------------------------------- ----- 11/13 [google-ai-generativelanguage]\n",
      "   --------------------------------- ----- 11/13 [google-ai-generativelanguage]\n",
      "   --------------------------------- ----- 11/13 [google-ai-generativelanguage]\n",
      "   --------------------------------- ----- 11/13 [google-ai-generativelanguage]\n",
      "   --------------------------------- ----- 11/13 [google-ai-generativelanguage]\n",
      "   --------------------------------- ----- 11/13 [google-ai-generativelanguage]\n",
      "   --------------------------------- ----- 11/13 [google-ai-generativelanguage]\n",
      "   --------------------------------- ----- 11/13 [google-ai-generativelanguage]\n",
      "   ------------------------------------ --- 12/13 [google-generativeai]\n",
      "   ------------------------------------ --- 12/13 [google-generativeai]\n",
      "   ------------------------------------ --- 12/13 [google-generativeai]\n",
      "   ------------------------------------ --- 12/13 [google-generativeai]\n",
      "   ------------------------------------ --- 12/13 [google-generativeai]\n",
      "   ------------------------------------ --- 12/13 [google-generativeai]\n",
      "   ---------------------------------------- 13/13 [google-generativeai]\n",
      "\n",
      "Successfully installed google-ai-generativelanguage-0.6.15 google-api-core-2.25.1 google-api-python-client-2.176.0 google-auth-2.40.3 google-auth-httplib2-0.2.0 google-generativeai-0.8.5 googleapis-common-protos-1.70.0 grpcio-1.73.1 grpcio-status-1.71.2 httplib2-0.22.0 proto-plus-1.26.1 rsa-4.9.1 uritemplate-4.2.0\n",
      "Note: you may need to restart the kernel to use updated packages.\n"
     ]
    }
   ],
   "source": [
    "pip install -U google-generativeai"
   ]
  },
  {
   "cell_type": "markdown",
   "id": "f52a03c9-64db-4682-ab46-37ba242f46cc",
   "metadata": {},
   "source": [
    "# Import the Required Libraries"
   ]
  },
  {
   "cell_type": "code",
   "execution_count": 3,
   "id": "f6da871e-ba7d-4bf4-b2f0-c4d6c665e609",
   "metadata": {},
   "outputs": [],
   "source": [
    "import google.generativeai as genai"
   ]
  },
  {
   "cell_type": "markdown",
   "id": "58af5c59-9272-4aba-8cfb-38bd8aa27e67",
   "metadata": {},
   "source": [
    "# Configure Your API Key\n",
    "\n",
    "- Replace \"Your Key\" with your actual key \n",
    "\n",
    "from https://makersuite.google.com/app/apikey\n",
    "\n",
    "Make sure:\n",
    "\n",
    "- You’ve enabled the Generative Language API in your Google Cloud account.\n",
    "\n",
    "- Don’t share your key publicly."
   ]
  },
  {
   "cell_type": "code",
   "execution_count": 4,
   "id": "b0b5535b-2b7f-4dde-8896-0e94426847c0",
   "metadata": {},
   "outputs": [],
   "source": [
    "genai.configure(api_key=\"Your Key\")"
   ]
  },
  {
   "cell_type": "markdown",
   "id": "fd86541a-9bb3-4a1c-a85e-85c66f18830c",
   "metadata": {},
   "source": [
    "# Load the Gemini Text Generation Model"
   ]
  },
  {
   "cell_type": "code",
   "execution_count": 5,
   "id": "3cd3120e-dc69-4df4-9ad0-eee766003f47",
   "metadata": {},
   "outputs": [],
   "source": [
    "model = genai.GenerativeModel(\"gemini-2.5-flash-preview-04-17\")"
   ]
  },
  {
   "cell_type": "markdown",
   "id": "a7437f6c-ddc6-454b-b1f6-84d561686320",
   "metadata": {},
   "source": [
    "# Generate a Response to a Smart Prompt\n",
    "Asking about AI, Generative AI, and Agentic AI in simple terms"
   ]
  },
  {
   "cell_type": "markdown",
   "id": "63c7ebf8-4627-466c-945a-ed781a9c9e33",
   "metadata": {},
   "source": [
    "## Generate a text response from a prompt"
   ]
  },
  {
   "cell_type": "code",
   "execution_count": 6,
   "id": "10f0251d-f746-4bce-8192-2e5e4fcd3bf9",
   "metadata": {},
   "outputs": [
    {
     "name": "stdout",
     "output_type": "stream",
     "text": [
      "Hello! Thank you for asking.\n",
      "\n",
      "As an AI, I don't experience feelings or physical states in the way humans do, but I'm functioning perfectly and ready to help you.\n",
      "\n",
      "How are *you* doing today? What can I do for you?\n"
     ]
    }
   ],
   "source": [
    "response = model.generate_content(\"Hello! How are you doing today?\")\n",
    "print(response.text)"
   ]
  },
  {
   "cell_type": "markdown",
   "id": "9629bdd7-16c7-412c-8831-ff926c8a597c",
   "metadata": {},
   "source": [
    "## Generate a text response from a prompt "
   ]
  },
  {
   "cell_type": "code",
   "execution_count": 7,
   "id": "7e05501b-f2d2-4011-a0b2-79868a362734",
   "metadata": {},
   "outputs": [
    {
     "name": "stdout",
     "output_type": "stream",
     "text": [
      "Okay, let's break these down in simple terms.\n",
      "\n",
      "1.  **What is Artificial Intelligence (AI)?**\n",
      "    *   **Simple answer:** AI is about making computers think or act in smart ways, like humans do, especially when it comes to learning, solving problems, or making decisions. It's trying to give computers \"brains\" to do tasks that usually need human intelligence.\n",
      "\n",
      "2.  **What is Generative AI?**\n",
      "    *   **Simple answer:** Generative AI is a *type* of AI that can **create new things**. Think of it like a computer artist or writer. It learns from lots of examples and then can generate brand new text, images, music, code, or other content that didn't exist before.\n",
      "\n",
      "3.  **What is Agentic AI?**\n",
      "    *   **Simple answer:** Agentic AI is a *type* of AI that can **take action and make its own decisions** to reach a specific goal you give it. Instead of just answering a question, it can break down a task, figure out the steps needed, use tools (maybe even other AIs), and work towards completing that task on its own, like a smart assistant trying to finish a project for you.\n",
      "\n",
      "4.  **How are they different from each other?**\n",
      "    *   **AI** is the big overall idea – making computers smart.\n",
      "    *   **Generative AI** is one *specific way* AI is smart: by **creating** new content (like writing or drawing).\n",
      "    *   **Agentic AI** is another *specific way* AI is smart: by **doing tasks** and *reaching goals* through planning and taking action. It's about the AI *acting* in the world to achieve something, which might even involve *using* generative AI along the way!\n"
     ]
    }
   ],
   "source": [
    "response = model.generate_content(\n",
    "    \"Explain in simple words:\\n\"\n",
    "    \"1. What is Artificial Intelligence (AI)?\\n\"\n",
    "    \"2. What is Generative AI?\\n\"\n",
    "    \"3. What is Agentic AI?\\n\"\n",
    "    \"4. How are they different from each other?\\n\"\n",
    "    \"Give short, beginner-friendly answers.\"\n",
    ")\n",
    "\n",
    "print(response.text)"
   ]
  },
  {
   "cell_type": "markdown",
   "id": "c23c9b14-455b-415e-a864-a9ebb9cca610",
   "metadata": {},
   "source": [
    "# Format the Output Nicely in Markdown"
   ]
  },
  {
   "cell_type": "code",
   "execution_count": 8,
   "id": "4773dd84-1553-442f-9f5f-1161f4c193b3",
   "metadata": {},
   "outputs": [
    {
     "data": {
      "text/markdown": [
       "> Okay, let's break these down in simple terms.\n",
       "> \n",
       "> 1.  **What is Artificial Intelligence (AI)?**\n",
       ">     *   **Simple answer:** AI is about making computers think or act in smart ways, like humans do, especially when it comes to learning, solving problems, or making decisions. It's trying to give computers \"brains\" to do tasks that usually need human intelligence.\n",
       "> \n",
       "> 2.  **What is Generative AI?**\n",
       ">     *   **Simple answer:** Generative AI is a *type* of AI that can **create new things**. Think of it like a computer artist or writer. It learns from lots of examples and then can generate brand new text, images, music, code, or other content that didn't exist before.\n",
       "> \n",
       "> 3.  **What is Agentic AI?**\n",
       ">     *   **Simple answer:** Agentic AI is a *type* of AI that can **take action and make its own decisions** to reach a specific goal you give it. Instead of just answering a question, it can break down a task, figure out the steps needed, use tools (maybe even other AIs), and work towards completing that task on its own, like a smart assistant trying to finish a project for you.\n",
       "> \n",
       "> 4.  **How are they different from each other?**\n",
       ">     *   **AI** is the big overall idea – making computers smart.\n",
       ">     *   **Generative AI** is one *specific way* AI is smart: by **creating** new content (like writing or drawing).\n",
       ">     *   **Agentic AI** is another *specific way* AI is smart: by **doing tasks** and *reaching goals* through planning and taking action. It's about the AI *acting* in the world to achieve something, which might even involve *using* generative AI along the way!"
      ],
      "text/plain": [
       "<IPython.core.display.Markdown object>"
      ]
     },
     "execution_count": 8,
     "metadata": {},
     "output_type": "execute_result"
    }
   ],
   "source": [
    "import textwrap\n",
    "from IPython.display import Markdown\n",
    "\n",
    "def to_markdown(text):\n",
    "    text = text.replace('-', ' *')\n",
    "    return Markdown(textwrap.indent(text, '> ', predicate=lambda _: True))\n",
    "\n",
    "to_markdown(response.text)"
   ]
  },
  {
   "cell_type": "markdown",
   "id": "5aa57262-d180-49ff-8547-425eeb1929f8",
   "metadata": {},
   "source": [
    "# Conclusion\n",
    "\n",
    "- We successfully built a text generation app using Gemini 2.5 Flash.\n",
    "- Learned how to prompt Gemini using Python and read AI-generated content.\n",
    "- This forms the basis for more advanced chatbots, agents, or creative tools.\n",
    "\n",
    "Next, we’ll move to multi-modal input — where Gemini will generate content from **images**, not just text!\n"
   ]
  }
 ],
 "metadata": {
  "kernelspec": {
   "display_name": "Python 3 (ipykernel)",
   "language": "python",
   "name": "python3"
  },
  "language_info": {
   "codemirror_mode": {
    "name": "ipython",
    "version": 3
   },
   "file_extension": ".py",
   "mimetype": "text/x-python",
   "name": "python",
   "nbconvert_exporter": "python",
   "pygments_lexer": "ipython3",
   "version": "3.13.5"
  }
 },
 "nbformat": 4,
 "nbformat_minor": 5
}
