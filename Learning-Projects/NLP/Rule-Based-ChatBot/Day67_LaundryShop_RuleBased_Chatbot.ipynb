{
 "cells": [
  {
   "cell_type": "markdown",
   "id": "9a52d985-0f61-4d90-b825-fe36d5a052a3",
   "metadata": {},
   "source": [
    "#  Laundry Shop Chatbot (Rule-Based using NLTK)\n",
    "\n",
    "## Project Description\n",
    "This is a **rule-based chatbot** built for an imaginary laundry shop.  \n",
    "It can handle **50+ FAQs** related to laundry services like washing, ironing, delivery, pricing, offers, timings, and more.\n",
    "\n",
    "## Features                                     \n",
    "- Answer customer FAQs using **pattern matching rules**.  \n",
    "- Provide details about services, prices, timings, offers, and contact info.  \n",
    "- If asked an **out-of-box question**, the bot will politely say:  \n",
    "  *\"Please call our customer care at +91-9876543210 or drop us an email at support@laundryshop.com\"*  \n",
    "\n",
    "## Why Rule-Based?\n",
    "- Easy to implement with predefined rules.  \n",
    "- Good for **small businesses like shops, salons, or laundry services**.  \n",
    "- Predictable and reliable answers for FAQs.\n"
   ]
  },
  {
   "cell_type": "markdown",
   "id": "7636b0c6-6dbd-4d0d-9f0b-2a749e6d5364",
   "metadata": {},
   "source": [
    "# NLTK Rule-Based Chatbot with 50+ rules"
   ]
  },
  {
   "cell_type": "code",
   "execution_count": null,
   "id": "9b6853f1-5c24-4a7a-a776-6a7971dd175a",
   "metadata": {},
   "outputs": [
    {
     "name": "stdout",
     "output_type": "stream",
     "text": [
      "🧺 Fresh & Clean Laundry Shop Chatbot 🤖\n"
     ]
    },
    {
     "name": "stdin",
     "output_type": "stream",
     "text": [
      "> Hi\n"
     ]
    },
    {
     "name": "stdout",
     "output_type": "stream",
     "text": [
      "Hello! Welcome to Fresh & Clean Laundry Shop 🧺. How can I help you today?\n"
     ]
    },
    {
     "name": "stdin",
     "output_type": "stream",
     "text": [
      "> What are your services?\n"
     ]
    },
    {
     "name": "stdout",
     "output_type": "stream",
     "text": [
      "Our services include washing, ironing, dry cleaning, stain removal, express service, and home delivery.\n"
     ]
    },
    {
     "name": "stdin",
     "output_type": "stream",
     "text": [
      "> How much does it cost to wash a shirt?\n"
     ]
    },
    {
     "name": "stdout",
     "output_type": "stream",
     "text": [
      "Washing a shirt costs ₹30.\n"
     ]
    },
    {
     "name": "stdin",
     "output_type": "stream",
     "text": [
      "> What are your dry cleaning charges?\n"
     ]
    },
    {
     "name": "stdout",
     "output_type": "stream",
     "text": [
      "Dry cleaning starts from ₹100 depending on the item.\n"
     ]
    },
    {
     "name": "stdin",
     "output_type": "stream",
     "text": [
      "> Do you provide pickup?\n"
     ]
    },
    {
     "name": "stdout",
     "output_type": "stream",
     "text": [
      "We provide free pickup and delivery for orders above ₹300.\n"
     ]
    },
    {
     "name": "stdin",
     "output_type": "stream",
     "text": [
      "> ok bye\n"
     ]
    },
    {
     "name": "stdout",
     "output_type": "stream",
     "text": [
      "Thank you for visiting Fresh & Clean Laundry Shop 🧺. Goodbye!\n"
     ]
    }
   ],
   "source": [
    "# 🧺 Laundry Shop Chatbot (Rule-Based)\n",
    "# Import\n",
    "from nltk.chat.util import Chat, reflections\n",
    "\n",
    "# Define pairs (50+ Q&A rules)\n",
    "pairs = [\n",
    "\n",
    "    # Greetings\n",
    "    [r\"(hi|hello|hey|hii|good morning|good evening)\", \n",
    "     [\"Hello! Welcome to Fresh & Clean Laundry Shop 🧺. How can I help you today?\"]],\n",
    "\n",
    "    # Services\n",
    "    [r\"(.*)service(.*)\", \n",
    "     [\"Our services include washing, ironing, dry cleaning, stain removal, express service, and home delivery.\"]],\n",
    "    [r\"(i want to know your services|what are your services|tell me your services)\", \n",
    "     [\"Sure! We offer washing, ironing, dry cleaning, stain removal, express service, and free home delivery on orders above ₹300.\"]],\n",
    "\n",
    "    # Pricing\n",
    "    [r\"(.*)price(.*)\", [\"Our pricing depends on the item. Shirts ₹30, Pants ₹40, Bedsheet ₹60, Dry Cleaning starts from ₹100.\"]],\n",
    "    [r\"(.*)cost(.*shirt.*)\", [\"Washing a shirt costs ₹30.\"]],\n",
    "    [r\"(.*)cost(.*pant.*)\", [\"Washing pants costs ₹40.\"]],\n",
    "    [r\"(.*)cost(.*bedsheet.*)\", [\"Washing a bedsheet costs ₹60 per piece.\"]],\n",
    "    [r\"(.*)dry clean(.*)\", [\"Dry cleaning starts from ₹100 depending on the item.\"]],\n",
    "\n",
    "    # Delivery\n",
    "    [r\"(.*)delivery(.*)\", [\"Regular delivery in 48 hours. Express delivery in 24 hours.\"]],\n",
    "    [r\"(how long|time).*delivery(.*)\", [\"Delivery usually takes 48 hours. Express delivery is available in 24 hours.\"]],\n",
    "    [r\"(.*)pickup(.*)\", [\"We provide free pickup and delivery for orders above ₹300.\"]],\n",
    "\n",
    "    # Discounts / Offers\n",
    "    [r\"(.*)offer(.*)\", [\"We currently have 10% off on orders above ₹500!\"]],\n",
    "    [r\"(.*)discount(.*)\", [\"Yes! 10% discount for orders above ₹500, and 15% discount for students.\"]],\n",
    "\n",
    "    # Payment\n",
    "    [r\"(.*)payment(.*)\", [\"We accept cash, UPI, debit/credit cards, and online wallets.\"]],\n",
    "    [r\"(.*)upi(.*)\", [\"Yes, we accept all UPI payments (PhonePe, Google Pay, Paytm).\"]],\n",
    "\n",
    "    # Membership\n",
    "    [r\"(.*)membership(.*)\", [\"We have monthly and yearly membership plans with free pickup and priority delivery.\"]],\n",
    "\n",
    "    # Contact\n",
    "    [r\"(.*)contact(.*)\", [\"You can call us at +91-9876543210 or email us at support@laundryshop.com\"]],\n",
    "    [r\"(.*)customer care(.*)\", [\"Please call our customer care at +91-9876543210 or email support@laundryshop.com\"]],\n",
    "\n",
    "    # Location\n",
    "    [r\"(.*)location(.*)\", [\"We are located at MG Road, Pune. You can also book online for pickup.\"]],\n",
    "\n",
    "    # Working hours\n",
    "    [r\"(.*)open(.*)\", [\"We are open from 9 AM to 9 PM, all days of the week.\"]],\n",
    "    [r\"(.*)close(.*)\", [\"We close at 9 PM every day.\"]],\n",
    "\n",
    "    # Special care\n",
    "    [r\"(.*)stain(.*)\", [\"Yes, we provide stain removal for coffee, ink, oil, and more.\"]],\n",
    "    [r\"(.*)wool(.*)\", [\"We take special care of woolen clothes with gentle wash.\"]],\n",
    "    [r\"(.*)silk(.*)\", [\"Silk clothes are handled with premium dry cleaning.\"]],\n",
    "\n",
    "    # Express Service\n",
    "    [r\"(.*)express(.*)\", [\"Express delivery is available within 24 hours for an extra ₹50 per item.\"]],\n",
    "\n",
    "    # General Questions\n",
    "    [r\"(.*)who are you(.*)\", [\"I am Fresh & Clean Laundry Shop's assistant bot 🤖\"]],\n",
    "    [r\"(.*)what can you do(.*)\", [\"I can help you with services, pricing, delivery, offers, and more.\"]],\n",
    "    [r\"(.*)how are you(.*)\", [\"I’m always fresh and clean! 🧺 How can I help you today?\"]],\n",
    "\n",
    "    # Goodbye\n",
    "    [r\"(bye|goodbye|see you|exit|quit|ok bye)\", \n",
    "     [\"Thank you for visiting Fresh & Clean Laundry Shop 🧺. Goodbye!\"]],\n",
    "\n",
    "    # Fallback (MUST BE LAST)\n",
    "    [r\"(.*)\", \n",
    "     [\"Sorry, I can't answer that. Please call our customer care at +91-9876543210 or drop an email at support@laundryshop.com\"]],\n",
    "]\n",
    "\n",
    "# Start Chat\n",
    "print(\"🧺 Fresh & Clean Laundry Shop Chatbot 🤖\")\n",
    "chat = Chat(pairs, reflections)\n",
    "chat.converse()\n"
   ]
  },
  {
   "cell_type": "markdown",
   "id": "e238b757-75d5-4500-b189-8689e93302a3",
   "metadata": {},
   "source": [
    "---"
   ]
  },
  {
   "cell_type": "markdown",
   "id": "67543602-7ed3-4f49-8380-0eab7637b694",
   "metadata": {},
   "source": [
    "#  Laundry Shop Chatbot (Streamlit Version)\n",
    "\n",
    "We are upgrading our **rule-based chatbot** into a **Streamlit Web Application**.  \n",
    "\n",
    "**Features:**\n",
    "  \n",
    "- Interactive Chatbox UI\n",
    "- Professional branding (Laundry Shop)\n",
    "- Same rule-based engine (50+ Q&A)\n",
    "- Works directly in the browser\n",
    "\n",
    "**Steps to Run**\n",
    "\n",
    "1. Install Streamlit  \n",
    "```bash\n",
    "        pip install streamlit\n",
    "```\n",
    "2. Save the chatbot code into a Python file (example: laundry_chatbot_app.py).\n",
    "\n",
    "3. Run the app using:\n",
    "```python\n",
    "        streamlit run laundry_chatbot_app.py\n",
    "```\n",
    "4. Your chatbot will open in the browser at http://localhost:8501."
   ]
  },
  {
   "cell_type": "markdown",
   "id": "99766c3e-5162-4796-9ad1-65edcd59085f",
   "metadata": {},
   "source": [
    "# Note:\n",
    "\n",
    "- This is still rule-based, so it works on predefined Q&A.\n",
    "- If user input doesn’t match, it shows fallback:\n",
    "> \"Sorry, I can't answer that. Please call our customer care at +91-9876543210 or drop an email at support@laundryshop.com\""
   ]
  },
  {
   "cell_type": "markdown",
   "id": "9b1ad0bf-e793-4db2-a73f-9cda5f0e8542",
   "metadata": {},
   "source": [
    "# Full Streamlit Code (`laundry_chatbot_app.py`)\n",
    "\n",
    "```python\n",
    "import streamlit as st\n",
    "from nltk.chat.util import Chat, reflections\n",
    "import base64\n",
    "\n",
    "# -------------------------------\n",
    "# 🤖 Chatbot rules\n",
    "# -------------------------------\n",
    "pairs = [\n",
    "    [r\"(hi|hello|hey|hii|good morning|good evening)\", \n",
    "     [\"Hello! Welcome to Fresh & Clean Laundry Shop 🧺. How can I help you today?\"]],\n",
    "    [r\"(.*)service(.*)\", \n",
    "     [\"Our services include washing, ironing, dry cleaning, stain removal, express service, and home delivery.\"]],\n",
    "    [r\"(.*)price(.*)\", \n",
    "     [\"Our pricing depends on the item. Shirts ₹30, Pants ₹40, Bedsheet ₹60, Dry Cleaning starts from ₹100.\"]],\n",
    "    [r\"(.*)delivery(.*)\", \n",
    "     [\"Regular delivery in 48 hours. Express delivery in 24 hours.\"]],\n",
    "    [r\"(.*)offer(.*)\", \n",
    "     [\"We currently have 10% off on orders above ₹500!\"]],\n",
    "    [r\"(.*)payment(.*)\", \n",
    "     [\"We accept cash, UPI, debit/credit cards, and online wallets.\"]],\n",
    "    [r\"(.*)contact(.*)\", \n",
    "     [\"You can call us at +91-9876543210 or email us at support@laundryshop.com\"]],\n",
    "    [r\"(bye|goodbye|see you|exit|quit|ok bye)\", \n",
    "     [\"Thank you for visiting Fresh & Clean Laundry Shop 🧺. Goodbye!\"]],\n",
    "    [r\"(.*)\", \n",
    "     [\"Sorry, I can't answer that. Please call our customer care at +91-9876543210 or drop an email at support@laundryshop.com\"]],\n",
    "]\n",
    "\n",
    "chat = Chat(pairs, reflections)\n",
    "\n",
    "# -------------------------------\n",
    "# 🎨 Background image\n",
    "# -------------------------------\n",
    "def add_bg_from_local(image_file):\n",
    "    with open(image_file, \"rb\") as file:\n",
    "        encoded = base64.b64encode(file.read()).decode()\n",
    "    st.markdown(\n",
    "        f\"\"\"\n",
    "        <style>\n",
    "        .stApp {{\n",
    "            background-image: url(\"data:image/jpg;base64,{encoded}\");\n",
    "            background-size: cover;\n",
    "            background-position: center;\n",
    "            background-attachment: fixed;\n",
    "        }}\n",
    "        </style>\n",
    "        \"\"\",\n",
    "        unsafe_allow_html=True\n",
    "    )\n",
    "\n",
    "add_bg_from_local(\"pexels-myatezhny39-2927523.jpg\")  # replace with your file\n",
    "\n",
    "# -------------------------------\n",
    "# 📌 UI Title\n",
    "# -------------------------------\n",
    "st.markdown(\"<h1 style='text-align:center; color:white;'>🧺 Fresh & Clean Laundry Shop Chatbot</h1>\", unsafe_allow_html=True)\n",
    "\n",
    "# -------------------------------\n",
    "# 📌 Input\n",
    "# -------------------------------\n",
    "user_input = st.text_input(\"💬 Ask me something:\")\n",
    "\n",
    "if user_input:\n",
    "    response = chat.respond(user_input)\n",
    "    \n",
    "    # ❌ Instead of appending, overwrite old chat\n",
    "    st.session_state.history = [(\"You\", user_input), (\"Bot\", response)]\n",
    "\n",
    "# -------------------------------\n",
    "# 📌 Show only the latest Q&A\n",
    "# -------------------------------\n",
    "if \"history\" in st.session_state:\n",
    "    for speaker, msg in st.session_state.history:\n",
    "        if speaker == \"You\":\n",
    "            st.markdown(\n",
    "                f\"\"\"\n",
    "                <div style='text-align:right; margin:10px;'>\n",
    "                    <span style='background:#4CAF50; color:white; padding:10px 15px; border-radius:15px; display:inline-block;'>\n",
    "                        {msg}\n",
    "                    </span>\n",
    "                </div>\n",
    "                \"\"\", unsafe_allow_html=True\n",
    "            )\n",
    "        else:  # Bot\n",
    "            st.markdown(\n",
    "                f\"\"\"\n",
    "                <div style='text-align:left; margin:10px;'>\n",
    "                    <span style='background:rgba(255,255,255,0.9); color:black; padding:10px 15px; border-radius:15px; display:inline-block;'>\n",
    "                        {msg}\n",
    "                    </span>\n",
    "                </div>\n",
    "                \"\"\", unsafe_allow_html=True\n",
    "            )\n",
    "\n",
    "```"
   ]
  },
  {
   "cell_type": "markdown",
   "id": "4f72088c-ea02-47bd-9354-a6841ec40601",
   "metadata": {},
   "source": [
    "#  Fresh & Clean Laundry Shop Chatbot (Final Look)\n",
    "\n",
    "Here is how our chatbot app looks when deployed with Streamlit \n",
    "\n",
    "![Laundry App Look](laundry_app_look.PNG)\n"
   ]
  },
  {
   "cell_type": "code",
   "execution_count": null,
   "id": "171fb15f-9f17-459d-a612-db3f18764831",
   "metadata": {},
   "outputs": [],
   "source": [
    "Thank You !"
   ]
  }
 ],
 "metadata": {
  "kernelspec": {
   "display_name": "Python 3 (ipykernel)",
   "language": "python",
   "name": "python3"
  },
  "language_info": {
   "codemirror_mode": {
    "name": "ipython",
    "version": 3
   },
   "file_extension": ".py",
   "mimetype": "text/x-python",
   "name": "python",
   "nbconvert_exporter": "python",
   "pygments_lexer": "ipython3",
   "version": "3.13.5"
  }
 },
 "nbformat": 4,
 "nbformat_minor": 5
}
