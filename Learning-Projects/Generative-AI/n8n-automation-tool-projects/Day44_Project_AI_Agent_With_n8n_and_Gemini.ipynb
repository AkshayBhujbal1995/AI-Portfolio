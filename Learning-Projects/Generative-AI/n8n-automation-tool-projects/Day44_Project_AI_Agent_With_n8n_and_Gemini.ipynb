{
 "cells": [
  {
   "cell_type": "markdown",
   "id": "9ced8bf3-8c07-450c-9fcb-6fbc6c0a24b1",
   "metadata": {},
   "source": [
    "**My First AI Agent Project (n8n + Gemini + Real-Time Tools)**"
   ]
  },
  {
   "cell_type": "markdown",
   "id": "b905aad1-de2d-4f12-89d4-5bd40af763b0",
   "metadata": {},
   "source": [
    "# Objective\n",
    "\n",
    "Today, I am building my **first AI Agent** using the no-code automation tool **n8n**, connected to **Gemini AI**, with real-time tools like **Calculator** and **Shark API**, and displayed via a simple **Chat UI** built using HTML + JavaScript.\n"
   ]
  },
  {
   "cell_type": "markdown",
   "id": "e2465bb5-feb0-4caf-a2f5-fd2a949bef5b",
   "metadata": {},
   "source": [
    "# What is n8n?\n",
    "\n",
    "**n8n** is a powerful open-source workflow automation tool that allows you to connect various apps and services using visual workflows – like Zapier, but fully customizable.\n",
    "\n",
    "## Key Features:\n",
    "\n",
    "- Drag-and-drop workflow builder  \n",
    "- Supports HTTP requests, APIs, Webhooks  \n",
    "- Powerful trigger + logic system  \n",
    "- Easy integration with AI models, APIs, databases, and more\n",
    "- Visit: [https://n8n.io](https://n8n.io)"
   ]
  },
  {
   "cell_type": "markdown",
   "id": "85207bed-8671-466d-8a80-3bad970ff7c7",
   "metadata": {},
   "source": [
    "# Tools Used\n",
    "\n",
    "| Tool         | Purpose                                     |\n",
    "|--------------|---------------------------------------------|\n",
    "| `n8n`        | Workflow automation and backend logic       |\n",
    "| `Gemini API` | AI model to respond to queries              |\n",
    "| `Calculator` | Handle real-time math operations            |\n",
    "| `Shark API`  | Connect to real-time external data          |\n",
    "| `HTML`       | Create the front-end chat interface         |\n"
   ]
  },
  {
   "cell_type": "markdown",
   "id": "992eedb9-9c6e-4c1b-9bac-3c27618ea2d2",
   "metadata": {},
   "source": [
    "# Steps I Followed\n",
    "\n",
    "## Logged into n8n\n",
    "\n",
    "- Used [https://n8n.cloud](https://n8n.cloud)\n",
    "- Started a new **workflow**\n",
    "\n",
    "## Imported Chat Agent Template\n",
    "\n",
    "- Used the **Import Chat Agent** feature\n",
    "- Pre-built logic to receive, process, and respond to chat queries\n",
    "\n",
    "## Connected to Gemini AI\n",
    "\n",
    "- Used Gemini API credentials  \n",
    "- Created API Key and configured HTTP Request node in n8n\n",
    "\n",
    "## Added Real-Time Tools\n",
    "\n",
    "- **Calculator Node** to perform instant calculations (e.g., 17% of 2999)\n",
    "- **Shark API Node** to fetch live data from external source\n",
    "- **Memory Node** to retain chat history context\n",
    "\n",
    "## Tested the Workflow\n",
    "\n",
    "- Asked queries like “What is 17% of 2999?” → Response was correct\n",
    "- Tested logic branching, data formatting, and context memory\n",
    "\n",
    "## Built Frontend Chat UI\n",
    "\n",
    "- Designed simple HTML + JavaScript chat interface  \n",
    "- Connected it to the webhook via `fetch()`  \n",
    "- Typed message → Clicked “Ask” → Got real-time AI reply\n"
   ]
  },
  {
   "cell_type": "markdown",
   "id": "7e56a02b-bab5-4da8-8ea4-e15ecc4857e1",
   "metadata": {},
   "source": [
    "# Webhook Link (Temporary)\n",
    "\n",
    "Live Page Link: `https://bhujbal.app.n8n.cloud/webhook/d18e6a82-edc1-4185-a10d-f3fc550dbdce/chat`\n",
    "\n",
    "> ⚠️ **Note**: I am using a free n8n plan. This link will stop working after some time. However, every part of this project is fully documented here for future use or deployment.\n"
   ]
  },
  {
   "cell_type": "markdown",
   "id": "02433f98-3c85-4340-88b6-dfe805690e0d",
   "metadata": {},
   "source": [
    "# Screenshots\n",
    "\n",
    "## Agent Setup in n8n\n",
    "\n",
    "![AI Agent Setup](./ai-agent-setup.PNG)\n"
   ]
  },
  {
   "cell_type": "markdown",
   "id": "daef91b2-3287-4936-9912-c48d4551990b",
   "metadata": {},
   "source": [
    "## Agent Responding in Workflow\n",
    "\n",
    "![AI Agent Working](./ai-agent-working.PNG)\n"
   ]
  },
  {
   "cell_type": "markdown",
   "id": "bb29c88b-6f4f-4f22-be61-94a8422cb907",
   "metadata": {},
   "source": [
    "# Agent Working in Browser (Chat UI)\n",
    "\n",
    "![Browser Working](./ai-agent-browser.PNG)"
   ]
  },
  {
   "cell_type": "markdown",
   "id": "a43a2f7e-45f5-494e-ae12-a6a47f5c4aac",
   "metadata": {},
   "source": [
    "# Conclusion\n",
    "\n",
    "In this project, I successfully built my **first AI Agent** using `n8n`, connected to **Gemini AI**, enhanced with **real-time tools**, and deployed through a **simple Chat UI**.\n",
    "\n",
    "This hands-on experience gave me practical insights into:\n",
    "\n",
    "* Workflow automation with no-code tools like **n8n**\n",
    "* API integration (Gemini, Calculator, Shark API)\n",
    "* Building responsive AI agents with memory and logic\n",
    "* Connecting frontend (HTML) to backend workflows\n",
    "\n",
    "> ⚠️ **Note**: The live agent link may stop working due to free plan limitations. However, this notebook fully documents the project for future deployment and reference.\n",
    "\n",
    "\n",
    "\n",
    "**What I Learned**\n",
    "\n",
    "* Using **n8n** for real-time chat automation\n",
    "* Working with **APIs and external tools** in workflows\n",
    "* Designing a **simple chatbot UI** with JavaScript\n",
    "* Keeping context with memory nodes in AI workflows\n",
    "\n",
    "**Next Steps**\n",
    "\n",
    "* Deploy on a **custom domain** (e.g., `akshayagent.com`)\n",
    "* Use **Gemini Pro** or **OpenAI GPT-4** for better performance\n",
    "* Add **voice support** and **response history tracking**\n",
    "* Expand to multi-agent systems with user login and analytics\n",
    "\n",
    "Thanks to the **n8n bootcamp** which helped me start my AI agent journey.\n",
    "This project is just the beginning – I’m excited to explore more possibilities in automation, AI, and real-time data interaction."
   ]
  }
 ],
 "metadata": {
  "kernelspec": {
   "display_name": "Python 3 (ipykernel)",
   "language": "python",
   "name": "python3"
  },
  "language_info": {
   "codemirror_mode": {
    "name": "ipython",
    "version": 3
   },
   "file_extension": ".py",
   "mimetype": "text/x-python",
   "name": "python",
   "nbconvert_exporter": "python",
   "pygments_lexer": "ipython3",
   "version": "3.13.5"
  }
 },
 "nbformat": 4,
 "nbformat_minor": 5
}
