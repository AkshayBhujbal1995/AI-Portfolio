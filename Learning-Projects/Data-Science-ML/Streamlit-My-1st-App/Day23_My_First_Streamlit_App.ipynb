{
 "cells": [
  {
   "cell_type": "markdown",
   "id": "f7a5271d-0c0e-43de-99bd-3cfe1622ef38",
   "metadata": {},
   "source": [
    "**Day 23 – My First Streamlit App: Welcome + Secret Message**\n",
    "\n",
    "This is a beginner-friendly Streamlit app built as part of my learning journey (Day 23).  \n",
    "It displays a welcome title and a fun button that reveals a surprise message!\n",
    "\n",
    "**What This App Does**\n",
    "\n",
    "- Shows a friendly welcome message\n",
    "- Has a button labeled “Click me for a secret ”\n",
    "- Reveals a fun success message when clicked\n"
   ]
  },
  {
   "cell_type": "markdown",
   "id": "3bcb269a-480f-4cd5-bce6-1ffc0ae3e620",
   "metadata": {},
   "source": [
    "# Run Streamlit from Jupyter Notebook"
   ]
  },
  {
   "cell_type": "markdown",
   "id": "e08c7958-7d7b-4019-af3d-342186677dd5",
   "metadata": {},
   "source": [
    "## Write your code in Jupyter"
   ]
  },
  {
   "cell_type": "code",
   "execution_count": 1,
   "id": "2ae1c577-0079-4056-b81a-6dfc4c22539b",
   "metadata": {},
   "outputs": [],
   "source": [
    "code = \"\"\"\n",
    "import streamlit as st\n",
    "\n",
    "st.title(\" Welcome to my app\")\n",
    "st.subheader(\"This is my first Streamlit app with a surprise! \")\n",
    "\n",
    "if st.button(\"Click me for a secret \"):\n",
    "    st.success(\" You’re awesome! Keep learning and coding \")\n",
    "\"\"\"\n",
    "\n",
    "with open(\"app.py\", \"w\", encoding=\"utf-8\") as file:\n",
    "    file.write(code)\n"
   ]
  },
  {
   "cell_type": "markdown",
   "id": "ea3a21ea-91e3-4b14-83da-71f83c6ecac1",
   "metadata": {},
   "source": [
    "**This saves your Streamlit code into a file named app.py**"
   ]
  },
  {
   "cell_type": "markdown",
   "id": "5bafedaf-ef23-4285-881c-559708f81f46",
   "metadata": {},
   "source": [
    "## Find Your Current Folder"
   ]
  },
  {
   "cell_type": "code",
   "execution_count": 3,
   "id": "9085456f-68a8-45e8-b0e7-fe793810088a",
   "metadata": {},
   "outputs": [
    {
     "data": {
      "text/plain": [
       "'C:\\\\Users\\\\aksha\\\\OneDrive\\\\Desktop\\\\Full stack Data Science course\\\\GITHUB Uploads\\\\4_EDA_Exploratory_Data_Analysis'"
      ]
     },
     "execution_count": 3,
     "metadata": {},
     "output_type": "execute_result"
    }
   ],
   "source": [
    "import os\n",
    "os.getcwd()"
   ]
  },
  {
   "cell_type": "markdown",
   "id": "0655c574-c233-4706-bb75-11721f258826",
   "metadata": {},
   "source": [
    "## Open CMD (Command Prompt)"
   ]
  },
  {
   "cell_type": "markdown",
   "id": "8bc20794-c353-4070-9f94-4bd7b3b41c7f",
   "metadata": {},
   "source": [
    "**Use the cd command to go to the folder where app.py is saved**"
   ]
  },
  {
   "cell_type": "markdown",
   "id": "fc708a86-c1c9-474d-9871-aedef0fb10d0",
   "metadata": {},
   "source": [
    "like : \n",
    "```python\n",
    "cd C:\\\\Users\\\\aksha\\\\OneDrive\\\\Desktop\\\\Full stack Data Science course\\\\GITHUB Uploads\\\\4_EDA_Exploratory_Data_Analysis\n"
   ]
  },
  {
   "cell_type": "markdown",
   "id": "9cebfc97-aca6-4322-b334-956dbb814aaf",
   "metadata": {},
   "source": [
    "## Run the Streamlit App"
   ]
  },
  {
   "cell_type": "markdown",
   "id": "6ad0b7d9-f5b4-4bad-9cf3-ec04aa22565f",
   "metadata": {},
   "source": [
    "**Now type this command in CMD:**"
   ]
  },
  {
   "cell_type": "markdown",
   "id": "1f01d3e6-0397-4b59-a1f1-11a2ebc3974b",
   "metadata": {},
   "source": [
    "```python\n",
    "\n",
    "cd C:\\Users\\aksha\\OneDrive\\Desktop\\Full stack Data Science course\\GITHUB Uploads\\4_EDA_Exploratory_Data_Analysis > streamlit run app.py\n",
    " "
   ]
  },
  {
   "cell_type": "markdown",
   "id": "749a9c81-18e4-4e6a-ae8b-a18a7f42ae63",
   "metadata": {},
   "source": [
    "**It will open your Streamlit app in the browser with:**\n",
    "\n",
    "* Title: Welcome to my app\n",
    "\n",
    "* A fun button that shows a secret message"
   ]
  },
  {
   "cell_type": "code",
   "execution_count": null,
   "id": "af64de1c-27ce-4bdd-b8ec-1edae58977e4",
   "metadata": {},
   "outputs": [],
   "source": []
  }
 ],
 "metadata": {
  "kernelspec": {
   "display_name": "Python 3 (ipykernel)",
   "language": "python",
   "name": "python3"
  },
  "language_info": {
   "codemirror_mode": {
    "name": "ipython",
    "version": 3
   },
   "file_extension": ".py",
   "mimetype": "text/x-python",
   "name": "python",
   "nbconvert_exporter": "python",
   "pygments_lexer": "ipython3",
   "version": "3.12.7"
  }
 },
 "nbformat": 4,
 "nbformat_minor": 5
}
