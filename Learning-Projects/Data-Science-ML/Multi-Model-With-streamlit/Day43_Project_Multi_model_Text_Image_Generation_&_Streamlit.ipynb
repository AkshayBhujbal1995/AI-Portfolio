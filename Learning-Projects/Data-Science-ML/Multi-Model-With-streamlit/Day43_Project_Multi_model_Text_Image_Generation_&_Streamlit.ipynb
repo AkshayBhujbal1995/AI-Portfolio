{
 "cells": [
  {
   "cell_type": "markdown",
   "id": "1b57be69-a01b-454e-909b-19c8ead8f8e6",
   "metadata": {},
   "source": [
    "**Project: Multimodel_Text_Image_Generation_Using_Gemini_Streamlit**\n",
    "\n",
    "This project demonstrates how to build a multimodal AI application that accepts both text and image input,\n",
    "and generates intelligent responses using Google’s Generative AI (Gemini 2.5 Flash model), all wrapped in a Streamlit UI.\n",
    "\n",
    "What You’ll Learn\n",
    "\n",
    "- How to set up and use the google-generativeai Python SDK\n",
    "- How to integrate Gemini for both text and image understanding\n",
    "- How to use Streamlit to create an interactive user interface\n",
    "\n",
    "Technologies Used\n",
    "\n",
    "- Python\n",
    "- Google Generative AI (google-generativeai)\n",
    "- Gemini 2.5 Flash model\n",
    "- Streamlit\n",
    "- PIL (Python Imaging Library)\n",
    "\n",
    "**Note:**\n",
    "\n",
    "This document is written in notebook format for explanation purposes.\n",
    "To run this as an actual app:\n",
    "\n",
    "- Copy the code into a `.py` file (e.g., `app.py`) using VS Code or Notepad\n",
    " - Open terminal in the same folder\n",
    " - Run the app using: `streamlit run app.py`"
   ]
  },
  {
   "cell_type": "markdown",
   "id": "f6bd8e2b-f89c-422b-a295-374e670dc2de",
   "metadata": {},
   "source": [
    "# Install Required Libraries\n",
    "What these libraries do:\n",
    "\n",
    "- streamlit: to create a web app with buttons, file upload, etc.\n",
    "\n",
    "- google-generativeai: to connect with Gemini\n",
    "\n",
    "- pillow: to work with images in Python (also called PIL)"
   ]
  },
  {
   "cell_type": "code",
   "execution_count": 1,
   "id": "178d1772-2d4e-4ef5-a17e-480fc489b591",
   "metadata": {},
   "outputs": [],
   "source": [
    "# pip install streamlit google-generativeai pillow"
   ]
  },
  {
   "cell_type": "markdown",
   "id": "cf5cf82a-ea3c-40ab-9d1a-29156a9f0041",
   "metadata": {},
   "source": [
    "# Import Python Libraries\n",
    "Start your .py or .ipynb file with:"
   ]
  },
  {
   "cell_type": "code",
   "execution_count": 2,
   "id": "acd378f3-7cde-45fe-a7ef-41de5c5b0a2e",
   "metadata": {},
   "outputs": [],
   "source": [
    "import streamlit as st  # For building the web app\n",
    "import google.generativeai as genai  # To use Gemini AI\n",
    "from PIL import Image  # To load images"
   ]
  },
  {
   "cell_type": "markdown",
   "id": "439a3b3b-a3ab-4219-b738-6a53a27115c4",
   "metadata": {},
   "source": [
    "# Add Your Gemini API Key\n",
    "You can get your API key from https://makersuite.google.com/app/apikey"
   ]
  },
  {
   "cell_type": "markdown",
   "id": "b120523a-5e1c-4f53-9f8d-5fdaa192d140",
   "metadata": {},
   "source": [
    "**Never share this key with anyone online!**"
   ]
  },
  {
   "cell_type": "code",
   "execution_count": 3,
   "id": "a6dcb08b-6505-4dc9-baa0-579dc9fbe2e6",
   "metadata": {},
   "outputs": [],
   "source": [
    "genai.configure(api_key=\"YOUR_API_KEY\")  # Replace with your real key"
   ]
  },
  {
   "cell_type": "markdown",
   "id": "03792c04-1a6c-44ef-a35c-f858919b1115",
   "metadata": {},
   "source": [
    "# Load the Gemini Model\n",
    "Gemini has multiple versions. We’ll use the one that understands both images and text:"
   ]
  },
  {
   "cell_type": "code",
   "execution_count": 4,
   "id": "d3b91b9a-0f4f-457f-887b-d343ee7e2228",
   "metadata": {},
   "outputs": [],
   "source": [
    "model = genai.GenerativeModel(\"gemini-2.5-flash-preview-05-20\")"
   ]
  },
  {
   "cell_type": "markdown",
   "id": "e5be9750-bd1b-4970-bc10-1530fa91e1e4",
   "metadata": {},
   "source": [
    "# Create the Streamlit Web Interface\n",
    "This part shows the title, input boxes, and upload option."
   ]
  },
  {
   "cell_type": "code",
   "execution_count": 5,
   "id": "4ddbaf13-973e-4c67-a211-f320dec67833",
   "metadata": {},
   "outputs": [
    {
     "name": "stderr",
     "output_type": "stream",
     "text": [
      "2025-07-12 16:52:53.243 WARNING streamlit.runtime.scriptrunner_utils.script_run_context: Thread 'MainThread': missing ScriptRunContext! This warning can be ignored when running in bare mode.\n",
      "2025-07-12 16:52:53.248 WARNING streamlit.runtime.scriptrunner_utils.script_run_context: Thread 'MainThread': missing ScriptRunContext! This warning can be ignored when running in bare mode.\n",
      "2025-07-12 16:52:56.435 \n",
      "  \u001b[33m\u001b[1mWarning:\u001b[0m to view this Streamlit app on a browser, run it with the following\n",
      "  command:\n",
      "\n",
      "    streamlit run C:\\Users\\Lenovo\\AppData\\Roaming\\Python\\Python313\\site-packages\\ipykernel_launcher.py [ARGUMENTS]\n",
      "2025-07-12 16:52:56.440 Thread 'MainThread': missing ScriptRunContext! This warning can be ignored when running in bare mode.\n",
      "2025-07-12 16:52:56.446 Thread 'MainThread': missing ScriptRunContext! This warning can be ignored when running in bare mode.\n",
      "2025-07-12 16:52:56.453 Thread 'MainThread': missing ScriptRunContext! This warning can be ignored when running in bare mode.\n"
     ]
    }
   ],
   "source": [
    "st.set_page_config(page_title=\"Gemini AI - Text or Image\")\n",
    "st.title(\"Gemini AI - Ask a Question or Upload an Image\")\n",
    "st.write(\"You can either ask a question or upload an image. Gemini will respond accordingly.\")"
   ]
  },
  {
   "cell_type": "markdown",
   "id": "455bbcc9-9252-4aac-ae49-678a01fae150",
   "metadata": {},
   "source": [
    "# Set up Page"
   ]
  },
  {
   "cell_type": "code",
   "execution_count": 6,
   "id": "8a0f7877-4812-4299-824c-95bd7d3b69e3",
   "metadata": {},
   "outputs": [
    {
     "name": "stderr",
     "output_type": "stream",
     "text": [
      "2025-07-12 16:53:00.972 Thread 'MainThread': missing ScriptRunContext! This warning can be ignored when running in bare mode.\n",
      "2025-07-12 16:53:00.975 Session state does not function when running a script without `streamlit run`\n",
      "2025-07-12 16:53:00.979 Thread 'MainThread': missing ScriptRunContext! This warning can be ignored when running in bare mode.\n",
      "2025-07-12 16:53:00.983 Thread 'MainThread': missing ScriptRunContext! This warning can be ignored when running in bare mode.\n",
      "2025-07-12 16:53:00.988 Thread 'MainThread': missing ScriptRunContext! This warning can be ignored when running in bare mode.\n",
      "2025-07-12 16:53:00.992 Thread 'MainThread': missing ScriptRunContext! This warning can be ignored when running in bare mode.\n",
      "2025-07-12 16:53:00.996 Thread 'MainThread': missing ScriptRunContext! This warning can be ignored when running in bare mode.\n",
      "2025-07-12 16:53:01.000 Thread 'MainThread': missing ScriptRunContext! This warning can be ignored when running in bare mode.\n",
      "2025-07-12 16:53:01.003 Thread 'MainThread': missing ScriptRunContext! This warning can be ignored when running in bare mode.\n",
      "2025-07-12 16:53:01.007 Thread 'MainThread': missing ScriptRunContext! This warning can be ignored when running in bare mode.\n"
     ]
    }
   ],
   "source": [
    "if \"text_answer\" not in st.session_state:\n",
    "    st.session_state.text_answer = \"\"\n",
    "if \"image_answer\" not in st.session_state:\n",
    "    st.session_state.image_answer = \"\"\n",
    "if \"uploaded_image\" not in st.session_state:\n",
    "    st.session_state.uploaded_image = None"
   ]
  },
  {
   "cell_type": "markdown",
   "id": "cbabf1b2-4bd9-4ba7-bc7c-59f211d069e7",
   "metadata": {},
   "source": [
    "# Inputs"
   ]
  },
  {
   "cell_type": "code",
   "execution_count": 7,
   "id": "1aadabc3-1bdb-4ea4-b913-2d29ca157290",
   "metadata": {},
   "outputs": [
    {
     "name": "stderr",
     "output_type": "stream",
     "text": [
      "2025-07-12 16:53:03.822 Thread 'MainThread': missing ScriptRunContext! This warning can be ignored when running in bare mode.\n",
      "2025-07-12 16:53:03.826 Thread 'MainThread': missing ScriptRunContext! This warning can be ignored when running in bare mode.\n",
      "2025-07-12 16:53:03.832 Thread 'MainThread': missing ScriptRunContext! This warning can be ignored when running in bare mode.\n",
      "2025-07-12 16:53:03.836 Thread 'MainThread': missing ScriptRunContext! This warning can be ignored when running in bare mode.\n",
      "2025-07-12 16:53:03.840 Thread 'MainThread': missing ScriptRunContext! This warning can be ignored when running in bare mode.\n",
      "2025-07-12 16:53:03.845 Thread 'MainThread': missing ScriptRunContext! This warning can be ignored when running in bare mode.\n",
      "2025-07-12 16:53:03.849 Thread 'MainThread': missing ScriptRunContext! This warning can be ignored when running in bare mode.\n",
      "2025-07-12 16:53:03.853 Thread 'MainThread': missing ScriptRunContext! This warning can be ignored when running in bare mode.\n",
      "2025-07-12 16:53:03.857 Thread 'MainThread': missing ScriptRunContext! This warning can be ignored when running in bare mode.\n",
      "2025-07-12 16:53:03.861 Thread 'MainThread': missing ScriptRunContext! This warning can be ignored when running in bare mode.\n",
      "2025-07-12 16:53:03.865 Thread 'MainThread': missing ScriptRunContext! This warning can be ignored when running in bare mode.\n"
     ]
    }
   ],
   "source": [
    "prompt = st.text_area(\"Ask a question (optional):\", placeholder=\"Example: What is Artificial Intelligence?\")\n",
    "image_file = st.file_uploader(\"Upload an image (optional):\", type=[\"jpg\", \"jpeg\", \"png\"])"
   ]
  },
  {
   "cell_type": "markdown",
   "id": "a69141cd-c1ff-48ef-b928-0ca66dd2d4fb",
   "metadata": {},
   "source": [
    "# Clear Button"
   ]
  },
  {
   "cell_type": "code",
   "execution_count": 8,
   "id": "4bf60482-4a3c-4a7d-9ddc-4329dbe1ce5f",
   "metadata": {},
   "outputs": [
    {
     "name": "stderr",
     "output_type": "stream",
     "text": [
      "2025-07-12 16:53:06.728 Thread 'MainThread': missing ScriptRunContext! This warning can be ignored when running in bare mode.\n",
      "2025-07-12 16:53:06.733 Thread 'MainThread': missing ScriptRunContext! This warning can be ignored when running in bare mode.\n",
      "2025-07-12 16:53:06.736 Thread 'MainThread': missing ScriptRunContext! This warning can be ignored when running in bare mode.\n",
      "2025-07-12 16:53:06.740 Thread 'MainThread': missing ScriptRunContext! This warning can be ignored when running in bare mode.\n",
      "2025-07-12 16:53:06.744 Thread 'MainThread': missing ScriptRunContext! This warning can be ignored when running in bare mode.\n"
     ]
    }
   ],
   "source": [
    "if st.button(\"Clear Output\"):\n",
    "    st.session_state.text_answer = \"\"\n",
    "    st.session_state.image_answer = \"\"\n",
    "    st.session_state.uploaded_image = None\n",
    "    st.rerun()"
   ]
  },
  {
   "cell_type": "markdown",
   "id": "2df000be-94ef-4f2f-a99e-6d3964a87388",
   "metadata": {},
   "source": [
    "# Action Buttons"
   ]
  },
  {
   "cell_type": "code",
   "execution_count": 9,
   "id": "bb62aaed-52cb-4fe4-8bd1-0bfb510871f7",
   "metadata": {},
   "outputs": [
    {
     "name": "stderr",
     "output_type": "stream",
     "text": [
      "2025-07-12 16:53:08.949 Thread 'MainThread': missing ScriptRunContext! This warning can be ignored when running in bare mode.\n",
      "2025-07-12 16:53:08.952 Thread 'MainThread': missing ScriptRunContext! This warning can be ignored when running in bare mode.\n",
      "2025-07-12 16:53:08.956 Thread 'MainThread': missing ScriptRunContext! This warning can be ignored when running in bare mode.\n"
     ]
    }
   ],
   "source": [
    "col1, col2 = st.columns(2)"
   ]
  },
  {
   "cell_type": "markdown",
   "id": "52fbbd71-0ac2-4005-9a3c-8be3eb0bdd22",
   "metadata": {},
   "source": [
    "# Generate text response"
   ]
  },
  {
   "cell_type": "code",
   "execution_count": 10,
   "id": "a2c873cb-927e-4821-99bb-7ffdf27fcaf4",
   "metadata": {},
   "outputs": [
    {
     "name": "stderr",
     "output_type": "stream",
     "text": [
      "2025-07-12 16:53:11.168 Thread 'MainThread': missing ScriptRunContext! This warning can be ignored when running in bare mode.\n",
      "2025-07-12 16:53:11.172 Thread 'MainThread': missing ScriptRunContext! This warning can be ignored when running in bare mode.\n",
      "2025-07-12 16:53:11.175 Thread 'MainThread': missing ScriptRunContext! This warning can be ignored when running in bare mode.\n",
      "2025-07-12 16:53:11.180 Thread 'MainThread': missing ScriptRunContext! This warning can be ignored when running in bare mode.\n",
      "2025-07-12 16:53:11.184 Thread 'MainThread': missing ScriptRunContext! This warning can be ignored when running in bare mode.\n"
     ]
    }
   ],
   "source": [
    "with col1:\n",
    "    if st.button(\"Generate Answer from Question\"):\n",
    "        if not prompt.strip():\n",
    "            st.warning(\"Please enter a question.\")\n",
    "        else:\n",
    "            with st.spinner(\"Generating answer...\"):\n",
    "                try:\n",
    "                    response = model.generate_content(prompt.strip())\n",
    "                    st.session_state.text_answer = response.text\n",
    "                except Exception as e:\n",
    "                    st.error(f\"Error: {e}\")"
   ]
  },
  {
   "cell_type": "markdown",
   "id": "8894d3ee-d3b0-4c42-9746-6b52a9d3d267",
   "metadata": {},
   "source": [
    "\n",
    "# Generate image description"
   ]
  },
  {
   "cell_type": "code",
   "execution_count": 11,
   "id": "01f60a58-c3cd-4b4f-99b6-617c8d043956",
   "metadata": {},
   "outputs": [
    {
     "name": "stderr",
     "output_type": "stream",
     "text": [
      "2025-07-12 16:53:16.584 Thread 'MainThread': missing ScriptRunContext! This warning can be ignored when running in bare mode.\n",
      "2025-07-12 16:53:16.589 Thread 'MainThread': missing ScriptRunContext! This warning can be ignored when running in bare mode.\n",
      "2025-07-12 16:53:16.594 Thread 'MainThread': missing ScriptRunContext! This warning can be ignored when running in bare mode.\n",
      "2025-07-12 16:53:16.599 Thread 'MainThread': missing ScriptRunContext! This warning can be ignored when running in bare mode.\n",
      "2025-07-12 16:53:16.603 Thread 'MainThread': missing ScriptRunContext! This warning can be ignored when running in bare mode.\n"
     ]
    }
   ],
   "source": [
    "with col2:\n",
    "    if st.button(\"Describe Uploaded Image\"):\n",
    "        if not image_file:\n",
    "            st.warning(\"Please upload an image.\")\n",
    "        else:\n",
    "            try:\n",
    "                image = Image.open(image_file)\n",
    "                st.session_state.uploaded_image = image\n",
    "                with st.spinner(\"Describing image...\"):\n",
    "                    response = model.generate_content([image])\n",
    "                    st.session_state.image_answer = response.text\n",
    "            except Exception as e:\n",
    "                st.error(f\"Error: {e}\")\n"
   ]
  },
  {
   "cell_type": "markdown",
   "id": "b113f482-9503-4341-ae6f-688adb7ddce9",
   "metadata": {},
   "source": [
    "# Show Outputs if present"
   ]
  },
  {
   "cell_type": "code",
   "execution_count": 12,
   "id": "aedce4b6-7c67-4498-9bdd-784b61b05870",
   "metadata": {},
   "outputs": [
    {
     "name": "stderr",
     "output_type": "stream",
     "text": [
      "2025-07-12 16:53:19.140 Thread 'MainThread': missing ScriptRunContext! This warning can be ignored when running in bare mode.\n",
      "2025-07-12 16:53:19.145 Thread 'MainThread': missing ScriptRunContext! This warning can be ignored when running in bare mode.\n"
     ]
    }
   ],
   "source": [
    "if st.session_state.text_answer:\n",
    "    st.subheader(\"AI Answer:\")\n",
    "    st.markdown(st.session_state.text_answer)\n",
    "\n",
    "if st.session_state.image_answer:\n",
    "    st.subheader(\"Image Description:\")\n",
    "    if st.session_state.uploaded_image:\n",
    "        st.image(st.session_state.uploaded_image, caption=\"Uploaded Image\", use_column_width=True)\n",
    "    st.markdown(st.session_state.image_answer)"
   ]
  },
  {
   "cell_type": "markdown",
   "id": "b4ca721e-6841-4d0f-8a6d-345e90f642fa",
   "metadata": {},
   "source": [
    "# Instructions (only show if no answers)"
   ]
  },
  {
   "cell_type": "code",
   "execution_count": 13,
   "id": "6a953008-87bd-4e8f-8e8a-734eb620da66",
   "metadata": {},
   "outputs": [
    {
     "name": "stderr",
     "output_type": "stream",
     "text": [
      "2025-07-12 16:53:20.671 Thread 'MainThread': missing ScriptRunContext! This warning can be ignored when running in bare mode.\n",
      "2025-07-12 16:53:20.675 Thread 'MainThread': missing ScriptRunContext! This warning can be ignored when running in bare mode.\n",
      "2025-07-12 16:53:20.680 Thread 'MainThread': missing ScriptRunContext! This warning can be ignored when running in bare mode.\n",
      "2025-07-12 16:53:20.684 Thread 'MainThread': missing ScriptRunContext! This warning can be ignored when running in bare mode.\n"
     ]
    }
   ],
   "source": [
    "if not st.session_state.text_answer and not st.session_state.image_answer:\n",
    "    st.markdown(\"\"\"---\n",
    "Instructions:\n",
    "- Use \"Generate Answer from Question\" if you only want to ask a question.\n",
    "- Use \"Describe Uploaded Image\" if you only want to upload and describe an image.\n",
    "- Both inputs are optional and processed separately.\n",
    "- Click \"Clear Output\" to reset the app.\n",
    "\n",
    "To run this app:\n",
    "1. Save the code in a file named app.py\n",
    "2. Open terminal and run: streamlit run app.py\n",
    "\"\"\")"
   ]
  },
  {
   "cell_type": "markdown",
   "id": "29744c0e-8225-4e7c-b229-3813556aee5f",
   "metadata": {},
   "source": [
    "# Final Notes for You\n",
    "## How to Run This Project\n",
    "\n",
    "- Save everything in a Python file: app.py\n",
    "\n",
    "- Open your terminal or Anaconda prompt\n",
    "\n",
    "- Run this command:\n",
    "\n",
    "``` Python\n",
    "streamlit run app.py\n",
    "\n",
    "```\n"
   ]
  },
  {
   "cell_type": "markdown",
   "id": "41380b2c-6c69-4c38-9f7f-a4490ba8d552",
   "metadata": {},
   "source": [
    "# Conclusion\n",
    "\n",
    "- Built a Gemini AI app that accepts text and image inputs.\n",
    "- Used Streamlit to make it interactive and easy to use.\n",
    "- Learned how to call Google Generative AI models in real-world apps."
   ]
  }
 ],
 "metadata": {
  "kernelspec": {
   "display_name": "Python 3 (ipykernel)",
   "language": "python",
   "name": "python3"
  },
  "language_info": {
   "codemirror_mode": {
    "name": "ipython",
    "version": 3
   },
   "file_extension": ".py",
   "mimetype": "text/x-python",
   "name": "python",
   "nbconvert_exporter": "python",
   "pygments_lexer": "ipython3",
   "version": "3.13.5"
  }
 },
 "nbformat": 4,
 "nbformat_minor": 5
}
