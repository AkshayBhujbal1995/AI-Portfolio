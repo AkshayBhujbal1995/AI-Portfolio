{
 "cells": [
  {
   "cell_type": "markdown",
   "id": "d60d316f-083a-41a3-ab7b-f706a8fbb782",
   "metadata": {},
   "source": [
    "**Fruit Freshness Classification Project**\n",
    "\n",
    "**Author:** Akshay Bhujbal\n",
    "**Project Type:** AI / Deep Learning Portfolio Project\n",
    "\n",
    "**Project Overview**\n",
    "\n",
    "This project demonstrates a **Convolutional Neural Network (CNN)** model to classify fruits as **Fresh** or **Rotten**.\n",
    "The current model works for **3 types of fruits**:\n",
    "\n",
    "🍎 Apple\n",
    "🍌 Banana\n",
    "🍊 Orange\n",
    "\n",
    "The app/pipeline allows users to:\n",
    "\n",
    "1. Upload images of fruits for classification.\n",
    "2. Predict whether the fruit is Fresh or Rotten.\n",
    "3. Explore model performance metrics and predictions on sample images.\n",
    "\n",
    "The dataset consists of labeled images of fruits in varying conditions. The CNN model is trained to extract visual features and perform accurate classification.\n",
    "\n",
    "**Main Objectives**\n",
    "\n",
    "* Build and train a deep learning model for image classification.\n",
    "* Demonstrate a complete ML pipeline: data loading, preprocessing, model building, training, evaluation, and deployment.\n",
    "* Apply AI in real-world use cases such as:\n",
    "\n",
    "  * Food quality control\n",
    "  * Reducing food waste\n",
    "  * Smart grocery systems\n",
    "\n",
    "**Project Pipeline**\n",
    "\n",
    "1. **Import Libraries** → TensorFlow, Keras, NumPy, Matplotlib, etc.\n",
    "2. **Load Dataset** → Load images from Kaggle/local directory.\n",
    "3. **Preprocess Images** → Resize, normalize, and augment images.\n",
    "4. **Build CNN Model** → Stack Conv2D, MaxPooling2D, Flatten, Dense layers.\n",
    "5. **Train and Evaluate** → Train with training set, evaluate on validation set.\n",
    "6. **Save & Reload Model** → Save model weights, reload for inference.\n",
    "7. **Predict on New Images** → Test with new fruit images.\n",
    "8. **Frontend Integration** → Deploy using Gradio for easy image uploads and predictions.\n",
    "\n",
    "\n",
    "# Import Required Libraries\n",
    "\n",
    "- **tensorflow** → build deep learning models  \n",
    "- **Sequential** → stack layers one by one  \n",
    "- **Conv2D & MaxPooling2D** → extract features from images  \n",
    "- **Flatten & Dense** → classification layers  \n",
    "- **ImageDataGenerator** → load & preprocess images  \n",
    "- **matplotlib & numpy** → visualization and array handling\n"
   ]
  },
  {
   "cell_type": "code",
   "execution_count": 1,
   "id": "8d4e345d-19f1-4b6e-88ac-2466a692fac1",
   "metadata": {},
   "outputs": [],
   "source": [
    "import kagglehub  \n",
    "import tensorflow as tf\n",
    "from tensorflow.keras.models import Sequential\n",
    "from tensorflow.keras.layers import Conv2D, MaxPooling2D, Flatten, Dense, Dropout\n",
    "from tensorflow.keras.preprocessing.image import ImageDataGenerator\n",
    "import matplotlib.pyplot as plt\n",
    "import numpy as np\n",
    "import os\n",
    "import gradio as gr"
   ]
  },
  {
   "cell_type": "markdown",
   "id": "e01b4b71-ae3b-4056-936c-d7e6814ac02e",
   "metadata": {},
   "source": [
    "# Download Dataset from Kaggle\n",
    "\n",
    "We’ll use the dataset **[Fresh and Rotten Fruits](https://www.kaggle.com/datasets/sriramr/fruits-fresh-and-rotten-for-classification)**.  \n",
    "\n",
    "It contains images in **train/test folders**, each with subfolders:  \n",
    "\n",
    "- freshapples  \n",
    "- rottenapples  \n",
    "- freshbanana  \n",
    "- rottenbanana  \n",
    "- freshoranges  \n",
    "- rottenoranges  \n"
   ]
  },
  {
   "cell_type": "code",
   "execution_count": 6,
   "id": "2133a824-92b7-4892-9d75-18fb2830ca9d",
   "metadata": {},
   "outputs": [
    {
     "name": "stdout",
     "output_type": "stream",
     "text": [
      "Train Directory: C:\\Users\\Lenovo\\OneDrive\\Desktop\\Fresh_Rotten_Fruit_Classifier\\dataset\\train\n",
      "Test Directory: C:\\Users\\Lenovo\\OneDrive\\Desktop\\Fresh_Rotten_Fruit_Classifier\\dataset\\test\n"
     ]
    }
   ],
   "source": [
    "# Change this to your local dataset path\n",
    "\n",
    "base_dir = r\"C:\\Users\\Lenovo\\OneDrive\\Desktop\\Fresh_Rotten_Fruit_Classifier\\dataset\"\n",
    "\n",
    "train_dir = os.path.join(base_dir, \"train\")\n",
    "test_dir = os.path.join(base_dir, \"test\")\n",
    "\n",
    "print(\"Train Directory:\", train_dir)\n",
    "print(\"Test Directory:\", test_dir)\n"
   ]
  },
  {
   "cell_type": "markdown",
   "id": "59e4aa89-aab7-48c7-880b-b33906d9e1c0",
   "metadata": {},
   "source": [
    "# Data Preprocessing\n",
    "\n",
    "We need to prepare images before training:\n",
    "\n",
    "- **Resize** all images to the same size (150x150).  \n",
    "- **Rescale** pixel values from `[0,255]` → `[0,1]`.  \n",
    "- **Augmentation** for training (rotation, zoom, flip) → makes the model more robust.  \n",
    "- **Validation data** only rescaled (no augmentation).\n"
   ]
  },
  {
   "cell_type": "code",
   "execution_count": 7,
   "id": "d927d724-1dc0-41b3-a0e5-6f3a9b418c03",
   "metadata": {},
   "outputs": [
    {
     "name": "stdout",
     "output_type": "stream",
     "text": [
      "Found 10901 images belonging to 6 classes.\n",
      "Found 2698 images belonging to 6 classes.\n"
     ]
    }
   ],
   "source": [
    "img_size = (150, 150)   \n",
    "batch_size = 32\n",
    "\n",
    "train_datagen = ImageDataGenerator(\n",
    "    rescale=1./255,\n",
    "    rotation_range=20,\n",
    "    width_shift_range=0.2,\n",
    "    height_shift_range=0.2,\n",
    "    shear_range=0.2,\n",
    "    zoom_range=0.2,\n",
    "    horizontal_flip=True\n",
    ")\n",
    "\n",
    "test_datagen = ImageDataGenerator(rescale=1./255)\n",
    "\n",
    "train_data = train_datagen.flow_from_directory(\n",
    "    train_dir,\n",
    "    target_size=img_size,\n",
    "    batch_size=batch_size,\n",
    "    class_mode='categorical'\n",
    ")\n",
    "\n",
    "test_data = test_datagen.flow_from_directory(\n",
    "    test_dir,\n",
    "    target_size=img_size,\n",
    "    batch_size=batch_size,\n",
    "    class_mode='categorical'\n",
    ")\n"
   ]
  },
  {
   "cell_type": "markdown",
   "id": "a2e32ec6-930e-4fb3-ae73-fe05d027aacd",
   "metadata": {},
   "source": [
    "#  Building the CNN Model\n",
    "\n",
    "## Model Architecture\n",
    "\n",
    "- **Conv2D** → extracts features (shapes, textures, colors).  \n",
    "- **MaxPooling2D** → reduces image size but keeps important info.  \n",
    "- **Flatten** → converts 2D → 1D vector.  \n",
    "- **Dense layers** → final decision making.  \n",
    "- **Softmax activation** → outputs probability for each of the 6 classes.  \n"
   ]
  },
  {
   "cell_type": "code",
   "execution_count": 8,
   "id": "845f6e9a-c97a-4764-b265-95af2bc13705",
   "metadata": {},
   "outputs": [
    {
     "name": "stderr",
     "output_type": "stream",
     "text": [
      "C:\\Users\\Lenovo\\anaconda3\\Lib\\site-packages\\keras\\src\\layers\\convolutional\\base_conv.py:113: UserWarning: Do not pass an `input_shape`/`input_dim` argument to a layer. When using Sequential models, prefer using an `Input(shape)` object as the first layer in the model instead.\n",
      "  super().__init__(activity_regularizer=activity_regularizer, **kwargs)\n"
     ]
    },
    {
     "data": {
      "text/html": [
       "<pre style=\"white-space:pre;overflow-x:auto;line-height:normal;font-family:Menlo,'DejaVu Sans Mono',consolas,'Courier New',monospace\"><span style=\"font-weight: bold\">Model: \"sequential\"</span>\n",
       "</pre>\n"
      ],
      "text/plain": [
       "\u001b[1mModel: \"sequential\"\u001b[0m\n"
      ]
     },
     "metadata": {},
     "output_type": "display_data"
    },
    {
     "data": {
      "text/html": [
       "<pre style=\"white-space:pre;overflow-x:auto;line-height:normal;font-family:Menlo,'DejaVu Sans Mono',consolas,'Courier New',monospace\">┏━━━━━━━━━━━━━━━━━━━━━━━━━━━━━━━━━━━━━━┳━━━━━━━━━━━━━━━━━━━━━━━━━━━━━┳━━━━━━━━━━━━━━━━━┓\n",
       "┃<span style=\"font-weight: bold\"> Layer (type)                         </span>┃<span style=\"font-weight: bold\"> Output Shape                </span>┃<span style=\"font-weight: bold\">         Param # </span>┃\n",
       "┡━━━━━━━━━━━━━━━━━━━━━━━━━━━━━━━━━━━━━━╇━━━━━━━━━━━━━━━━━━━━━━━━━━━━━╇━━━━━━━━━━━━━━━━━┩\n",
       "│ conv2d (<span style=\"color: #0087ff; text-decoration-color: #0087ff\">Conv2D</span>)                      │ (<span style=\"color: #00d7ff; text-decoration-color: #00d7ff\">None</span>, <span style=\"color: #00af00; text-decoration-color: #00af00\">148</span>, <span style=\"color: #00af00; text-decoration-color: #00af00\">148</span>, <span style=\"color: #00af00; text-decoration-color: #00af00\">32</span>)        │             <span style=\"color: #00af00; text-decoration-color: #00af00\">896</span> │\n",
       "├──────────────────────────────────────┼─────────────────────────────┼─────────────────┤\n",
       "│ max_pooling2d (<span style=\"color: #0087ff; text-decoration-color: #0087ff\">MaxPooling2D</span>)         │ (<span style=\"color: #00d7ff; text-decoration-color: #00d7ff\">None</span>, <span style=\"color: #00af00; text-decoration-color: #00af00\">74</span>, <span style=\"color: #00af00; text-decoration-color: #00af00\">74</span>, <span style=\"color: #00af00; text-decoration-color: #00af00\">32</span>)          │               <span style=\"color: #00af00; text-decoration-color: #00af00\">0</span> │\n",
       "├──────────────────────────────────────┼─────────────────────────────┼─────────────────┤\n",
       "│ conv2d_1 (<span style=\"color: #0087ff; text-decoration-color: #0087ff\">Conv2D</span>)                    │ (<span style=\"color: #00d7ff; text-decoration-color: #00d7ff\">None</span>, <span style=\"color: #00af00; text-decoration-color: #00af00\">72</span>, <span style=\"color: #00af00; text-decoration-color: #00af00\">72</span>, <span style=\"color: #00af00; text-decoration-color: #00af00\">64</span>)          │          <span style=\"color: #00af00; text-decoration-color: #00af00\">18,496</span> │\n",
       "├──────────────────────────────────────┼─────────────────────────────┼─────────────────┤\n",
       "│ max_pooling2d_1 (<span style=\"color: #0087ff; text-decoration-color: #0087ff\">MaxPooling2D</span>)       │ (<span style=\"color: #00d7ff; text-decoration-color: #00d7ff\">None</span>, <span style=\"color: #00af00; text-decoration-color: #00af00\">36</span>, <span style=\"color: #00af00; text-decoration-color: #00af00\">36</span>, <span style=\"color: #00af00; text-decoration-color: #00af00\">64</span>)          │               <span style=\"color: #00af00; text-decoration-color: #00af00\">0</span> │\n",
       "├──────────────────────────────────────┼─────────────────────────────┼─────────────────┤\n",
       "│ conv2d_2 (<span style=\"color: #0087ff; text-decoration-color: #0087ff\">Conv2D</span>)                    │ (<span style=\"color: #00d7ff; text-decoration-color: #00d7ff\">None</span>, <span style=\"color: #00af00; text-decoration-color: #00af00\">34</span>, <span style=\"color: #00af00; text-decoration-color: #00af00\">34</span>, <span style=\"color: #00af00; text-decoration-color: #00af00\">128</span>)         │          <span style=\"color: #00af00; text-decoration-color: #00af00\">73,856</span> │\n",
       "├──────────────────────────────────────┼─────────────────────────────┼─────────────────┤\n",
       "│ max_pooling2d_2 (<span style=\"color: #0087ff; text-decoration-color: #0087ff\">MaxPooling2D</span>)       │ (<span style=\"color: #00d7ff; text-decoration-color: #00d7ff\">None</span>, <span style=\"color: #00af00; text-decoration-color: #00af00\">17</span>, <span style=\"color: #00af00; text-decoration-color: #00af00\">17</span>, <span style=\"color: #00af00; text-decoration-color: #00af00\">128</span>)         │               <span style=\"color: #00af00; text-decoration-color: #00af00\">0</span> │\n",
       "├──────────────────────────────────────┼─────────────────────────────┼─────────────────┤\n",
       "│ flatten (<span style=\"color: #0087ff; text-decoration-color: #0087ff\">Flatten</span>)                    │ (<span style=\"color: #00d7ff; text-decoration-color: #00d7ff\">None</span>, <span style=\"color: #00af00; text-decoration-color: #00af00\">36992</span>)               │               <span style=\"color: #00af00; text-decoration-color: #00af00\">0</span> │\n",
       "├──────────────────────────────────────┼─────────────────────────────┼─────────────────┤\n",
       "│ dense (<span style=\"color: #0087ff; text-decoration-color: #0087ff\">Dense</span>)                        │ (<span style=\"color: #00d7ff; text-decoration-color: #00d7ff\">None</span>, <span style=\"color: #00af00; text-decoration-color: #00af00\">128</span>)                 │       <span style=\"color: #00af00; text-decoration-color: #00af00\">4,735,104</span> │\n",
       "├──────────────────────────────────────┼─────────────────────────────┼─────────────────┤\n",
       "│ dropout (<span style=\"color: #0087ff; text-decoration-color: #0087ff\">Dropout</span>)                    │ (<span style=\"color: #00d7ff; text-decoration-color: #00d7ff\">None</span>, <span style=\"color: #00af00; text-decoration-color: #00af00\">128</span>)                 │               <span style=\"color: #00af00; text-decoration-color: #00af00\">0</span> │\n",
       "├──────────────────────────────────────┼─────────────────────────────┼─────────────────┤\n",
       "│ dense_1 (<span style=\"color: #0087ff; text-decoration-color: #0087ff\">Dense</span>)                      │ (<span style=\"color: #00d7ff; text-decoration-color: #00d7ff\">None</span>, <span style=\"color: #00af00; text-decoration-color: #00af00\">6</span>)                   │             <span style=\"color: #00af00; text-decoration-color: #00af00\">774</span> │\n",
       "└──────────────────────────────────────┴─────────────────────────────┴─────────────────┘\n",
       "</pre>\n"
      ],
      "text/plain": [
       "┏━━━━━━━━━━━━━━━━━━━━━━━━━━━━━━━━━━━━━━┳━━━━━━━━━━━━━━━━━━━━━━━━━━━━━┳━━━━━━━━━━━━━━━━━┓\n",
       "┃\u001b[1m \u001b[0m\u001b[1mLayer (type)                        \u001b[0m\u001b[1m \u001b[0m┃\u001b[1m \u001b[0m\u001b[1mOutput Shape               \u001b[0m\u001b[1m \u001b[0m┃\u001b[1m \u001b[0m\u001b[1m        Param #\u001b[0m\u001b[1m \u001b[0m┃\n",
       "┡━━━━━━━━━━━━━━━━━━━━━━━━━━━━━━━━━━━━━━╇━━━━━━━━━━━━━━━━━━━━━━━━━━━━━╇━━━━━━━━━━━━━━━━━┩\n",
       "│ conv2d (\u001b[38;5;33mConv2D\u001b[0m)                      │ (\u001b[38;5;45mNone\u001b[0m, \u001b[38;5;34m148\u001b[0m, \u001b[38;5;34m148\u001b[0m, \u001b[38;5;34m32\u001b[0m)        │             \u001b[38;5;34m896\u001b[0m │\n",
       "├──────────────────────────────────────┼─────────────────────────────┼─────────────────┤\n",
       "│ max_pooling2d (\u001b[38;5;33mMaxPooling2D\u001b[0m)         │ (\u001b[38;5;45mNone\u001b[0m, \u001b[38;5;34m74\u001b[0m, \u001b[38;5;34m74\u001b[0m, \u001b[38;5;34m32\u001b[0m)          │               \u001b[38;5;34m0\u001b[0m │\n",
       "├──────────────────────────────────────┼─────────────────────────────┼─────────────────┤\n",
       "│ conv2d_1 (\u001b[38;5;33mConv2D\u001b[0m)                    │ (\u001b[38;5;45mNone\u001b[0m, \u001b[38;5;34m72\u001b[0m, \u001b[38;5;34m72\u001b[0m, \u001b[38;5;34m64\u001b[0m)          │          \u001b[38;5;34m18,496\u001b[0m │\n",
       "├──────────────────────────────────────┼─────────────────────────────┼─────────────────┤\n",
       "│ max_pooling2d_1 (\u001b[38;5;33mMaxPooling2D\u001b[0m)       │ (\u001b[38;5;45mNone\u001b[0m, \u001b[38;5;34m36\u001b[0m, \u001b[38;5;34m36\u001b[0m, \u001b[38;5;34m64\u001b[0m)          │               \u001b[38;5;34m0\u001b[0m │\n",
       "├──────────────────────────────────────┼─────────────────────────────┼─────────────────┤\n",
       "│ conv2d_2 (\u001b[38;5;33mConv2D\u001b[0m)                    │ (\u001b[38;5;45mNone\u001b[0m, \u001b[38;5;34m34\u001b[0m, \u001b[38;5;34m34\u001b[0m, \u001b[38;5;34m128\u001b[0m)         │          \u001b[38;5;34m73,856\u001b[0m │\n",
       "├──────────────────────────────────────┼─────────────────────────────┼─────────────────┤\n",
       "│ max_pooling2d_2 (\u001b[38;5;33mMaxPooling2D\u001b[0m)       │ (\u001b[38;5;45mNone\u001b[0m, \u001b[38;5;34m17\u001b[0m, \u001b[38;5;34m17\u001b[0m, \u001b[38;5;34m128\u001b[0m)         │               \u001b[38;5;34m0\u001b[0m │\n",
       "├──────────────────────────────────────┼─────────────────────────────┼─────────────────┤\n",
       "│ flatten (\u001b[38;5;33mFlatten\u001b[0m)                    │ (\u001b[38;5;45mNone\u001b[0m, \u001b[38;5;34m36992\u001b[0m)               │               \u001b[38;5;34m0\u001b[0m │\n",
       "├──────────────────────────────────────┼─────────────────────────────┼─────────────────┤\n",
       "│ dense (\u001b[38;5;33mDense\u001b[0m)                        │ (\u001b[38;5;45mNone\u001b[0m, \u001b[38;5;34m128\u001b[0m)                 │       \u001b[38;5;34m4,735,104\u001b[0m │\n",
       "├──────────────────────────────────────┼─────────────────────────────┼─────────────────┤\n",
       "│ dropout (\u001b[38;5;33mDropout\u001b[0m)                    │ (\u001b[38;5;45mNone\u001b[0m, \u001b[38;5;34m128\u001b[0m)                 │               \u001b[38;5;34m0\u001b[0m │\n",
       "├──────────────────────────────────────┼─────────────────────────────┼─────────────────┤\n",
       "│ dense_1 (\u001b[38;5;33mDense\u001b[0m)                      │ (\u001b[38;5;45mNone\u001b[0m, \u001b[38;5;34m6\u001b[0m)                   │             \u001b[38;5;34m774\u001b[0m │\n",
       "└──────────────────────────────────────┴─────────────────────────────┴─────────────────┘\n"
      ]
     },
     "metadata": {},
     "output_type": "display_data"
    },
    {
     "data": {
      "text/html": [
       "<pre style=\"white-space:pre;overflow-x:auto;line-height:normal;font-family:Menlo,'DejaVu Sans Mono',consolas,'Courier New',monospace\"><span style=\"font-weight: bold\"> Total params: </span><span style=\"color: #00af00; text-decoration-color: #00af00\">4,829,126</span> (18.42 MB)\n",
       "</pre>\n"
      ],
      "text/plain": [
       "\u001b[1m Total params: \u001b[0m\u001b[38;5;34m4,829,126\u001b[0m (18.42 MB)\n"
      ]
     },
     "metadata": {},
     "output_type": "display_data"
    },
    {
     "data": {
      "text/html": [
       "<pre style=\"white-space:pre;overflow-x:auto;line-height:normal;font-family:Menlo,'DejaVu Sans Mono',consolas,'Courier New',monospace\"><span style=\"font-weight: bold\"> Trainable params: </span><span style=\"color: #00af00; text-decoration-color: #00af00\">4,829,126</span> (18.42 MB)\n",
       "</pre>\n"
      ],
      "text/plain": [
       "\u001b[1m Trainable params: \u001b[0m\u001b[38;5;34m4,829,126\u001b[0m (18.42 MB)\n"
      ]
     },
     "metadata": {},
     "output_type": "display_data"
    },
    {
     "data": {
      "text/html": [
       "<pre style=\"white-space:pre;overflow-x:auto;line-height:normal;font-family:Menlo,'DejaVu Sans Mono',consolas,'Courier New',monospace\"><span style=\"font-weight: bold\"> Non-trainable params: </span><span style=\"color: #00af00; text-decoration-color: #00af00\">0</span> (0.00 B)\n",
       "</pre>\n"
      ],
      "text/plain": [
       "\u001b[1m Non-trainable params: \u001b[0m\u001b[38;5;34m0\u001b[0m (0.00 B)\n"
      ]
     },
     "metadata": {},
     "output_type": "display_data"
    }
   ],
   "source": [
    "model = Sequential([\n",
    "    Conv2D(32, (3,3), activation='relu', input_shape=(150,150,3)),\n",
    "    MaxPooling2D(2,2),\n",
    "\n",
    "    Conv2D(64, (3,3), activation='relu'),\n",
    "    MaxPooling2D(2,2),\n",
    "\n",
    "    Conv2D(128, (3,3), activation='relu'),\n",
    "    MaxPooling2D(2,2),\n",
    "\n",
    "    Flatten(),\n",
    "    Dense(128, activation='relu'),\n",
    "    Dropout(0.5),\n",
    "    Dense(len(train_data.class_indices), activation='softmax') \n",
    "])\n",
    "\n",
    "model.compile(optimizer='adam', loss='categorical_crossentropy', metrics=['accuracy'])\n",
    "model.summary()\n"
   ]
  },
  {
   "cell_type": "markdown",
   "id": "ddcb0c68-db6d-4e9d-b8f1-30928a59511c",
   "metadata": {},
   "source": [
    "## Training the Model\n",
    "\n",
    "- Use **training data** for learning.  \n",
    "- Use **validation data** for checking performance.  \n",
    "- Train for **10 epochs**.  \n"
   ]
  },
  {
   "cell_type": "code",
   "execution_count": 9,
   "id": "56f0b9fd-e739-4217-bed0-c21ddd9239db",
   "metadata": {},
   "outputs": [
    {
     "name": "stderr",
     "output_type": "stream",
     "text": [
      "C:\\Users\\Lenovo\\anaconda3\\Lib\\site-packages\\keras\\src\\trainers\\data_adapters\\py_dataset_adapter.py:121: UserWarning: Your `PyDataset` class should call `super().__init__(**kwargs)` in its constructor. `**kwargs` can include `workers`, `use_multiprocessing`, `max_queue_size`. Do not pass these arguments to `fit()`, as they will be ignored.\n",
      "  self._warn_if_super_not_called()\n"
     ]
    },
    {
     "name": "stdout",
     "output_type": "stream",
     "text": [
      "Epoch 1/10\n",
      "\u001b[1m341/341\u001b[0m \u001b[32m━━━━━━━━━━━━━━━━━━━━\u001b[0m\u001b[37m\u001b[0m \u001b[1m1238s\u001b[0m 4s/step - accuracy: 0.5457 - loss: 1.1486 - val_accuracy: 0.8310 - val_loss: 0.5222\n",
      "Epoch 2/10\n",
      "\u001b[1m341/341\u001b[0m \u001b[32m━━━━━━━━━━━━━━━━━━━━\u001b[0m\u001b[37m\u001b[0m \u001b[1m912s\u001b[0m 3s/step - accuracy: 0.7802 - loss: 0.6346 - val_accuracy: 0.8358 - val_loss: 0.4616\n",
      "Epoch 3/10\n",
      "\u001b[1m341/341\u001b[0m \u001b[32m━━━━━━━━━━━━━━━━━━━━\u001b[0m\u001b[37m\u001b[0m \u001b[1m933s\u001b[0m 3s/step - accuracy: 0.8285 - loss: 0.5053 - val_accuracy: 0.8870 - val_loss: 0.3248\n",
      "Epoch 4/10\n",
      "\u001b[1m341/341\u001b[0m \u001b[32m━━━━━━━━━━━━━━━━━━━━\u001b[0m\u001b[37m\u001b[0m \u001b[1m667s\u001b[0m 2s/step - accuracy: 0.8429 - loss: 0.4528 - val_accuracy: 0.8955 - val_loss: 0.2842\n",
      "Epoch 5/10\n",
      "\u001b[1m341/341\u001b[0m \u001b[32m━━━━━━━━━━━━━━━━━━━━\u001b[0m\u001b[37m\u001b[0m \u001b[1m645s\u001b[0m 2s/step - accuracy: 0.8637 - loss: 0.4000 - val_accuracy: 0.9051 - val_loss: 0.2553\n",
      "Epoch 6/10\n",
      "\u001b[1m341/341\u001b[0m \u001b[32m━━━━━━━━━━━━━━━━━━━━\u001b[0m\u001b[37m\u001b[0m \u001b[1m663s\u001b[0m 2s/step - accuracy: 0.8718 - loss: 0.3636 - val_accuracy: 0.9173 - val_loss: 0.2279\n",
      "Epoch 7/10\n",
      "\u001b[1m341/341\u001b[0m \u001b[32m━━━━━━━━━━━━━━━━━━━━\u001b[0m\u001b[37m\u001b[0m \u001b[1m647s\u001b[0m 2s/step - accuracy: 0.8791 - loss: 0.3442 - val_accuracy: 0.9299 - val_loss: 0.1956\n",
      "Epoch 8/10\n",
      "\u001b[1m341/341\u001b[0m \u001b[32m━━━━━━━━━━━━━━━━━━━━\u001b[0m\u001b[37m\u001b[0m \u001b[1m626s\u001b[0m 2s/step - accuracy: 0.8873 - loss: 0.3149 - val_accuracy: 0.9314 - val_loss: 0.1751\n",
      "Epoch 9/10\n",
      "\u001b[1m341/341\u001b[0m \u001b[32m━━━━━━━━━━━━━━━━━━━━\u001b[0m\u001b[37m\u001b[0m \u001b[1m669s\u001b[0m 2s/step - accuracy: 0.8927 - loss: 0.3092 - val_accuracy: 0.9222 - val_loss: 0.1915\n",
      "Epoch 10/10\n",
      "\u001b[1m341/341\u001b[0m \u001b[32m━━━━━━━━━━━━━━━━━━━━\u001b[0m\u001b[37m\u001b[0m \u001b[1m651s\u001b[0m 2s/step - accuracy: 0.9002 - loss: 0.2846 - val_accuracy: 0.9325 - val_loss: 0.1762\n"
     ]
    }
   ],
   "source": [
    "history = model.fit(\n",
    "    train_data,\n",
    "    epochs=10,\n",
    "    validation_data=test_data\n",
    ")\n"
   ]
  },
  {
   "cell_type": "markdown",
   "id": "a1559461-0ac4-48f5-9a0a-be01ee8bb9d1",
   "metadata": {},
   "source": [
    "# Visualizing Training Results\n",
    "\n",
    "- Plot **Accuracy vs Epochs**  \n",
    "- Plot **Loss vs Epochs**  \n"
   ]
  },
  {
   "cell_type": "code",
   "execution_count": 11,
   "id": "8da02fe4-f743-4026-a8f9-f0d3ac84f1e9",
   "metadata": {},
   "outputs": [
    {
     "data": {
      "image/png": "[encoded data removed]",
      "text/plain": [
       "<Figure size 640x480 with 1 Axes>"
      ]
     },
     "metadata": {},
     "output_type": "display_data"
    }
   ],
   "source": [
    "plt.plot(history.history['accuracy'], label='train acc')\n",
    "plt.plot(history.history['val_accuracy'], label='val acc')\n",
    "plt.legend()\n",
    "plt.title(\"Accuracy over Epochs\")\n",
    "plt.show()\n"
   ]
  },
  {
   "cell_type": "code",
   "execution_count": 12,
   "id": "ba8144a4-08e4-4c2a-8279-94b2a28a7053",
   "metadata": {},
   "outputs": [
    {
     "data": {
      "image/png": "[encoded data removed]",
      "text/plain": [
       "<Figure size 640x480 with 1 Axes>"
      ]
     },
     "metadata": {},
     "output_type": "display_data"
    }
   ],
   "source": [
    "plt.plot(history.history['loss'], label='train loss')\n",
    "plt.plot(history.history['val_loss'], label='val loss')\n",
    "plt.legend()\n",
    "plt.title(\"Loss over Epochs\")\n",
    "plt.show()"
   ]
  },
  {
   "cell_type": "markdown",
   "id": "11792391-aa82-49ad-a323-a415ff45e25a",
   "metadata": {},
   "source": [
    "# Saving the Model\n",
    "\n",
    "We’ll save the trained model as **fruit_cnn_model.h5**.  \n"
   ]
  },
  {
   "cell_type": "code",
   "execution_count": 13,
   "id": "f72208e3-e897-4c1d-b15e-39014628fb46",
   "metadata": {},
   "outputs": [
    {
     "name": "stderr",
     "output_type": "stream",
     "text": [
      "WARNING:absl:You are saving your model as an HDF5 file via `model.save()` or `keras.saving.save_model(model)`. This file format is considered legacy. We recommend using instead the native Keras format, e.g. `model.save('my_model.keras')` or `keras.saving.save_model(model, 'my_model.keras')`. \n"
     ]
    }
   ],
   "source": [
    "model.save(\"fruit_cnn_model.h5\")"
   ]
  },
  {
   "cell_type": "markdown",
   "id": "6739e1d2-331b-4ded-9573-5fd1dbd30855",
   "metadata": {},
   "source": [
    "# Loading Model for Prediction\n",
    "\n",
    "We reload the model and create a **label mapping**.  \n"
   ]
  },
  {
   "cell_type": "code",
   "execution_count": 14,
   "id": "027b8399-57de-4a64-b626-1df92f62b404",
   "metadata": {},
   "outputs": [
    {
     "name": "stderr",
     "output_type": "stream",
     "text": [
      "WARNING:absl:Compiled the loaded model, but the compiled metrics have yet to be built. `model.compile_metrics` will be empty until you train or evaluate the model.\n"
     ]
    },
    {
     "name": "stdout",
     "output_type": "stream",
     "text": [
      "Class Labels: {0: 'freshapples', 1: 'freshbanana', 2: 'freshoranges', 3: 'rottenapples', 4: 'rottenbanana', 5: 'rottenoranges'}\n"
     ]
    }
   ],
   "source": [
    "loaded_model = tf.keras.models.load_model(\"fruit_cnn_model.h5\")\n",
    "labels = {v: k for k, v in train_data.class_indices.items()}\n",
    "print(\"Class Labels:\", labels)"
   ]
  },
  {
   "cell_type": "markdown",
   "id": "999130cf-4edf-4c35-bf6f-c5b050ebea4b",
   "metadata": {},
   "source": [
    "# Prediction Function\n",
    "\n",
    "- Resize uploaded image to **150x150**.  \n",
    "- Normalize pixel values.  \n",
    "- Predict class with highest probability.  \n"
   ]
  },
  {
   "cell_type": "code",
   "execution_count": 15,
   "id": "34b4eb5d-5ecd-4a04-8817-a4afc229c2df",
   "metadata": {},
   "outputs": [],
   "source": [
    "def predict_image(img):\n",
    "    img = tf.image.resize(img, img_size) / 255.0\n",
    "    img = np.expand_dims(img, axis=0)\n",
    "    prediction = loaded_model.predict(img)[0]\n",
    "    class_id = np.argmax(prediction)\n",
    "    return {labels[class_id]: float(prediction[class_id])}\n"
   ]
  },
  {
   "cell_type": "markdown",
   "id": "bb40ad6b-238e-449c-87f9-ffea8e8ebc03",
   "metadata": {},
   "source": [
    "# Frontend with Gradio\n",
    "\n",
    "We’ll use **Gradio** to create a simple interface:  \n",
    "- Upload fruit image  \n",
    "- Model predicts fresh/rotten type  \n"
   ]
  },
  {
   "cell_type": "markdown",
   "id": "f7b7068c-1d7e-4c3c-9c39-a0f75d8beec0",
   "metadata": {},
   "source": [
    "## Run Inside Jupyter Notebook\n",
    "\n",
    "If you are using Jupyter Notebook / JupyterLab, you don’t need a .py file.\n",
    "Just run:\n",
    "```python\n",
    "interface.launch()\n",
    "```\n",
    "> By default, it will open a new tab in your browser at a local URL (like http://127.0.0.1:7860).\n",
    "\n",
    "You can upload an image directly there."
   ]
  },
  {
   "cell_type": "code",
   "execution_count": 16,
   "id": "6046fdde-be36-4989-a4ba-1649a099e7a3",
   "metadata": {},
   "outputs": [
    {
     "name": "stdout",
     "output_type": "stream",
     "text": [
      "* Running on local URL:  http://127.0.0.1:7860\n",
      "* To create a public link, set `share=True` in `launch()`.\n"
     ]
    },
    {
     "data": {
      "text/html": [
       "<div><iframe src=\"http://127.0.0.1:7860/\" width=\"100%\" height=\"500\" allow=\"autoplay; camera; microphone; clipboard-read; clipboard-write;\" frameborder=\"0\" allowfullscreen></iframe></div>"
      ],
      "text/plain": [
       "<IPython.core.display.HTML object>"
      ]
     },
     "metadata": {},
     "output_type": "display_data"
    },
    {
     "data": {
      "text/plain": []
     },
     "execution_count": 16,
     "metadata": {},
     "output_type": "execute_result"
    },
    {
     "name": "stdout",
     "output_type": "stream",
     "text": [
      "\u001b[1m1/1\u001b[0m \u001b[32m━━━━━━━━━━━━━━━━━━━━\u001b[0m\u001b[37m\u001b[0m \u001b[1m1s\u001b[0m 556ms/step\n",
      "\u001b[1m1/1\u001b[0m \u001b[32m━━━━━━━━━━━━━━━━━━━━\u001b[0m\u001b[37m\u001b[0m \u001b[1m0s\u001b[0m 212ms/step\n",
      "\u001b[1m1/1\u001b[0m \u001b[32m━━━━━━━━━━━━━━━━━━━━\u001b[0m\u001b[37m\u001b[0m \u001b[1m1s\u001b[0m 538ms/step\n"
     ]
    }
   ],
   "source": [
    "interface = gr.Interface(\n",
    "    fn=predict_image,\n",
    "    inputs=gr.Image(type=\"numpy\"),\n",
    "    outputs=gr.Label(num_top_classes=3),\n",
    "    title=\"🍎🍌🍊 Fresh vs Rotten Fruit Classifier\",\n",
    "    description=\"Upload an image of apple, banana, or orange and find out if it’s fresh or rotten!\"\n",
    ")\n",
    "\n",
    "interface.launch()\n"
   ]
  },
  {
   "cell_type": "markdown",
   "id": "c1d02dbb-5bbd-4de2-bc31-e0a89a84d5d0",
   "metadata": {},
   "source": [
    "## Run as a Python Script (app.py)\n",
    "\n",
    "If you want to run it like a web app, create a new file app.py and copy everything (model loading + predict function + Gradio interface).\n",
    "```python\n",
    "import os\n",
    "os.environ['TF_CPP_MIN_LOG_LEVEL'] = '2'  # Suppress TF warnings\n",
    "\n",
    "import tensorflow as tf\n",
    "import numpy as np\n",
    "import gradio as gr\n",
    "import logging\n",
    "\n",
    "# Configure logging\n",
    "logging.basicConfig(level=logging.INFO, format='%(asctime)s - %(levelname)s - %(message)s')\n",
    "\n",
    "# ================================\n",
    "# 📌 Dummy Model Definition (Moved to top-level for scope)\n",
    "# ================================\n",
    "class DummyModel:\n",
    "    def predict(self, img):\n",
    "        logging.info(\"Using DummyModel for prediction.\")\n",
    "        # Simulate a prediction (ensure it's a 1D array of probabilities)\n",
    "        # Example distribution for 6 classes\n",
    "        probs = np.random.rand(6)\n",
    "        return np.array([probs / probs.sum()]) # Normalize to sum to 1\n",
    "\n",
    "# ================================\n",
    "# 📌 Load Trained Model\n",
    "# ================================\n",
    "loaded_model = None # Initialize to None\n",
    "try:\n",
    "    loaded_model = tf.keras.models.load_model(\"fruit_cnn_model.h5\")\n",
    "    logging.info(\"Successfully loaded fruit_cnn_model.h5\")\n",
    "except Exception as e:\n",
    "    logging.error(f\"Error loading model: {e}. Falling back to DummyModel.\")\n",
    "    loaded_model = DummyModel() # Assign the dummy model if real model fails\n",
    "\n",
    "# Class labels (without emojis)\n",
    "labels = {\n",
    "    0: \"Fresh Apple\",\n",
    "    1: \"Fresh Banana\",\n",
    "    2: \"Fresh Orange\",\n",
    "    3: \"Rotten Apple\",\n",
    "    4: \"Rotten Banana\",\n",
    "    5: \"Rotten Orange\"\n",
    "}\n",
    "\n",
    "img_size = (150, 150)\n",
    "\n",
    "# ================================\n",
    "# 📌 Prediction Function\n",
    "# ================================\n",
    "def predict_image(img):\n",
    "    logging.info(f\"predict_image called with img type: {type(img)}\")\n",
    "    if img is None:\n",
    "        logging.warning(\"No image provided to predict_image function.\")\n",
    "        return \"<div class='result-box'>Please upload an image or use the webcam.</div>\"\n",
    "\n",
    "    try:\n",
    "        # Ensure img is a numpy array.\n",
    "        if not isinstance(img, np.ndarray):\n",
    "            logging.error(f\"Input image is not a numpy array. Type: {type(img)}\")\n",
    "            # Attempt conversion if it's a PIL Image or similar\n",
    "            if hasattr(img, 'convert'): # Check if it's a PIL Image\n",
    "                img = np.array(img.convert(\"RGB\"))\n",
    "            else:\n",
    "                raise ValueError(\"Image input is not a numpy array or a recognizable image object.\")\n",
    "\n",
    "\n",
    "        # Check image shape and convert if necessary\n",
    "        if img.ndim == 2: # Grayscale image\n",
    "            img = np.stack([img, img, img], axis=-1) # Convert to 3 channel RGB\n",
    "            logging.info(\"Converted 2D grayscale image to 3D RGB.\")\n",
    "        elif img.ndim == 3 and img.shape[-1] == 4: # RGBA image (often from webcam)\n",
    "            img = img[:, :, :3] # Take only RGB channels\n",
    "            logging.info(\"Converted 4-channel RGBA image to 3-channel RGB.\")\n",
    "        elif img.ndim == 3 and img.shape[-1] == 3: # Already RGB\n",
    "            logging.info(\"Image is already 3-channel RGB.\")\n",
    "        else:\n",
    "            raise ValueError(f\"Unexpected image dimensions or channels: {img.shape}\")\n",
    "\n",
    "        # Now, ensure loaded_model is not None before proceeding.\n",
    "        # This check is technically redundant if `loaded_model` is always assigned\n",
    "        # either a real model or DummyModel, but good for clarity.\n",
    "        if loaded_model is None:\n",
    "             raise RuntimeError(\"Model was not loaded successfully and dummy model was not assigned.\")\n",
    "\n",
    "\n",
    "        if isinstance(loaded_model, DummyModel):\n",
    "            prediction_array = loaded_model.predict(img)[0]\n",
    "            logging.info(\"Dummy model predicted.\")\n",
    "        else:\n",
    "            # Preprocessing for actual model\n",
    "            img_tensor = tf.convert_to_tensor(img, dtype=tf.float32)\n",
    "            img_tensor = tf.image.resize(img_tensor, img_size)\n",
    "            img_tensor = img_tensor / 255.0 # Normalize\n",
    "            img_tensor = np.expand_dims(img_tensor, axis=0) # Add batch dimension\n",
    "            prediction_array = loaded_model.predict(img_tensor)[0]\n",
    "            logging.info(\"Actual model predicted.\")\n",
    "\n",
    "        class_id = np.argmax(prediction_array)\n",
    "        predicted_label = labels[class_id]\n",
    "        confidence = float(prediction_array[class_id]) * 100 # Convert to percentage\n",
    "\n",
    "        status_color = \"#28a745\" if \"Fresh\" in predicted_label else \"#dc3545\" # Green for Fresh, Red for Rotten\n",
    "        \n",
    "        html_output = f\"\"\"\n",
    "        <div class='result-box' style='border-left: 8px solid {status_color};'>\n",
    "            <div class='result-label'>{predicted_label}</div>\n",
    "            <div class='result-confidence' style='color: {status_color};'>{confidence:.2f}% Confidence</div>\n",
    "            <div class='result-detail'>\n",
    "                Based on the image, the model predicts this fruit is \n",
    "                <span style='font-weight: bold; color: {status_color};'>{predicted_label}</span>.\n",
    "            </div>\n",
    "        </div>\n",
    "        \"\"\"\n",
    "        logging.info(f\"Prediction successful: {predicted_label} with {confidence:.2f}% confidence.\")\n",
    "        return html_output\n",
    "\n",
    "    except Exception as e:\n",
    "        logging.error(f\"Error during prediction: {e}\", exc_info=True)\n",
    "        return f\"<div class='result-box error-message'>Prediction Error: {e}<br>Please try again or check the image format.</div>\"\n",
    "\n",
    "# ================================\n",
    "# 📌 Enhanced Gradio UI with Advanced CSS\n",
    "# ================================\n",
    "custom_css = \n",
    "/* Import Poppins font from Google Fonts */\n",
    "@import url('https://fonts.googleapis.com/css2?family=Poppins:wght@300;400;600;700;800&display=swap');\n",
    "\n",
    "/* General Body and Background */\n",
    "body {\n",
    "    font-family: 'Poppins', sans-serif;\n",
    "    margin: 0;\n",
    "    padding: 0;\n",
    "    overflow-x: hidden;\n",
    "    /* Richer, more complex animated gradient */\n",
    "    background: linear-gradient(135deg,\n",
    "                #FFD700 0%,     /* Gold */\n",
    "                #FFA07A 25%,    /* Light Salmon */\n",
    "                #FF6347 50%,    /* Tomato */\n",
    "                #A200FF 75%,    /* Electric Purple */\n",
    "                #00C9FF 100%    /* Bright Blue */\n",
    "                );\n",
    "    background-size: 600% 600%; /* Even larger for more dramatic shift */\n",
    "    animation: gradientShift 20s ease infinite alternate; /* Slower, alternates direction */\n",
    "}\n",
    "\n",
    "@keyframes gradientShift {\n",
    "    0% { background-position: 0% 50%; }\n",
    "    100% { background-position: 100% 50%; }\n",
    "}\n",
    "\n",
    "/* Main Gradio Container Styling */\n",
    ".gradio-container {\n",
    "    max-width: 1100px; /* Slightly wider */\n",
    "    margin: 50px auto;\n",
    "    padding: 35px;\n",
    "    border-radius: 25px; /* More rounded */\n",
    "    background: rgba(255, 255, 255, 0.98); /* Almost opaque white */\n",
    "    box-shadow: 0 20px 40px rgba(0, 0, 0, 0.25); /* Deeper, more distinct shadow */\n",
    "    backdrop-filter: blur(12px); /* Stronger frosted glass */\n",
    "    border: 1px solid rgba(255, 255, 255, 0.4);\n",
    "    transition: all 0.5s ease-in-out; /* Smooth transitions for container */\n",
    "}\n",
    "\n",
    ".gradio-container:hover {\n",
    "    box-shadow: 0 25px 50px rgba(0, 0, 0, 0.35); /* Even more lift on hover */\n",
    "}\n",
    "\n",
    "\n",
    "/* Headers */\n",
    "h1 {\n",
    "    color: #FF6347; /* Tomato Red */\n",
    "    text-align: center;\n",
    "    font-size: 3.2em; /* Even larger heading */\n",
    "    margin-bottom: 0.4em;\n",
    "    font-weight: 800; /* Extra bold */\n",
    "    text-shadow: 3px 3px 7px rgba(0,0,0,0.15); /* Stronger text shadow */\n",
    "    letter-spacing: 1.5px; /* Slightly spaced letters */\n",
    "}\n",
    "\n",
    "h2 {\n",
    "    color: #36454F; /* Charcoal Grey */\n",
    "    text-align: center;\n",
    "    font-size: 1.8em;\n",
    "    margin-top: 0;\n",
    "    font-weight: 600;\n",
    "}\n",
    "\n",
    "/* Markdown for descriptions */\n",
    ".gr-markdown {\n",
    "    text-align: center;\n",
    "    color: #444;\n",
    "    font-size: 1.15em;\n",
    "    line-height: 1.7;\n",
    "    margin-bottom: 2.5em;\n",
    "    padding: 0 20px; /* Some padding for longer lines */\n",
    "}\n",
    "\n",
    "/* Custom styling for specific Gradio components - Buttons */\n",
    ".gr-button {\n",
    "    border: none;\n",
    "    border-radius: 12px; /* More rounded buttons */\n",
    "    padding: 15px 30px;\n",
    "    font-size: 1.25em;\n",
    "    font-weight: 700; /* Bold */\n",
    "    cursor: pointer;\n",
    "    transition: all 0.4s cubic-bezier(0.25, 0.8, 0.25, 1); /* Slower, smoother transition */\n",
    "    text-transform: uppercase; /* Uppercase button text */\n",
    "    letter-spacing: 0.8px;\n",
    "    position: relative;\n",
    "    overflow: hidden; /* For the \"light effect\" */\n",
    "}\n",
    "\n",
    "/* Specific button colors and glows */\n",
    ".gr-button:nth-child(1) { /* First button (Predict) */\n",
    "    background-color: #00C9FF; /* Bright Blue */\n",
    "    color: #fff;\n",
    "    box-shadow: 0 7px 20px rgba(0, 201, 255, 0.4);\n",
    "}\n",
    ".gr-button:nth-child(1):hover {\n",
    "    background-color: #00B5E0; /* Darker blue */\n",
    "    box-shadow: 0 10px 25px rgba(0, 201, 255, 0.6);\n",
    "    transform: translateY(-3px);\n",
    "}\n",
    "\n",
    "/* Light effect on button hover */\n",
    ".gr-button::after {\n",
    "    content: '';\n",
    "    position: absolute;\n",
    "    top: 0;\n",
    "    left: -100%;\n",
    "    width: 100%;\n",
    "    height: 100%;\n",
    "    background: rgba(255, 255, 255, 0.2);\n",
    "    transition: all 0.5s ease;\n",
    "    transform: skewX(-20deg);\n",
    "}\n",
    ".gr-button:hover::after {\n",
    "    left: 100%;\n",
    "}\n",
    "\n",
    "\n",
    "/* Styling for Input and Output areas (card-like) */\n",
    ".gr-image, .gr-html-container { /* Target gr-html-container for the new output */\n",
    "    background: rgba(255, 255, 255, 0.9);\n",
    "    border-radius: 18px;\n",
    "    padding: 25px;\n",
    "    box-shadow: 0 7px 20px rgba(0, 0, 0, 0.1);\n",
    "    border: 1px solid rgba(200, 200, 200, 0.6);\n",
    "    transition: all 0.4s ease;\n",
    "    min-height: 250px; /* Ensure a good height */\n",
    "    display: flex;\n",
    "    flex-direction: column;\n",
    "    justify-content: center; /* Center content vertically */\n",
    "    align-items: center; /* Center content horizontally */\n",
    "}\n",
    "\n",
    ".gr-image:hover, .gr-html-container:hover {\n",
    "    box-shadow: 0 10px 25px rgba(0, 0, 0, 0.15);\n",
    "    transform: translateY(-3px);\n",
    "}\n",
    "\n",
    "/* Specific input image styling */\n",
    ".gr-image img {\n",
    "    border-radius: 15px; /* Slightly more rounded images */\n",
    "    box-shadow: 0 5px 15px rgba(0,0,0,0.1);\n",
    "}\n",
    "\n",
    "/* Custom styling for the HTML prediction output */\n",
    ".result-box {\n",
    "    width: 100%;\n",
    "    padding: 20px 30px;\n",
    "    border-radius: 15px;\n",
    "    background: #f9f9f9;\n",
    "    box-shadow: inset 0 0 15px rgba(0,0,0,0.05); /* Inner shadow */\n",
    "    text-align: center;\n",
    "    line-height: 1.5;\n",
    "    font-size: 1.1em;\n",
    "    color: #333;\n",
    "    max-width: 450px; /* Keep it neat */\n",
    "}\n",
    "\n",
    ".result-label {\n",
    "    font-size: 2.2em;\n",
    "    font-weight: 700;\n",
    "    margin-bottom: 5px;\n",
    "    text-transform: capitalize;\n",
    "}\n",
    "\n",
    ".result-confidence {\n",
    "    font-size: 1.6em;\n",
    "    font-weight: 600;\n",
    "    margin-bottom: 15px;\n",
    "}\n",
    "\n",
    ".result-detail {\n",
    "    font-size: 0.95em;\n",
    "    color: #666;\n",
    "}\n",
    "\n",
    ".error-message {\n",
    "    color: #dc3545; /* Red for error messages */\n",
    "    font-weight: 600;\n",
    "    border-left: 8px solid #dc3545 !important;\n",
    "}\n",
    "\n",
    "/* Gradio labels for input/output components */\n",
    ".gr-image label, .gr-html-container label {\n",
    "    font-size: 1.1em;\n",
    "    font-weight: 600;\n",
    "    color: #444;\n",
    "    margin-bottom: 10px;\n",
    "}\n",
    "\n",
    "\n",
    "/* Footer (keeping it hidden) */\n",
    "footer {\n",
    "    visibility: hidden !important;\n",
    "    height: 0 !important;\n",
    "}\n",
    "\n",
    "/* Responsive adjustments */\n",
    "@media (max-width: 900px) {\n",
    "    .gradio-container {\n",
    "        margin: 20px;\n",
    "        padding: 25px;\n",
    "    }\n",
    "    h1 {\n",
    "        font-size: 2.5em;\n",
    "    }\n",
    "    .gr-markdown {\n",
    "        font-size: 1em;\n",
    "    }\n",
    "    .gr-button {\n",
    "        font-size: 1.1em;\n",
    "        padding: 12px 25px;\n",
    "    }\n",
    "    .result-label {\n",
    "        font-size: 1.8em;\n",
    "    }\n",
    "    .result-confidence {\n",
    "        font-size: 1.3em;\n",
    "    }\n",
    "}\n",
    "\n",
    "@media (max-width: 600px) {\n",
    "    .gradio-container {\n",
    "        margin: 15px;\n",
    "        padding: 15px;\n",
    "    }\n",
    "    h1 {\n",
    "        font-size: 2em;\n",
    "    }\n",
    "    .gr-button {\n",
    "        font-size: 1em;\n",
    "        padding: 10px 20px;\n",
    "    }\n",
    "    .gr-row { /* Stacks columns on small screens */\n",
    "        flex-direction: column;\n",
    "    }\n",
    "    .gr-image, .gr-html-container {\n",
    "        margin-bottom: 20px; /* Space between stacked elements */\n",
    "    }\n",
    "}\n",
    "\n",
    "\n",
    "with gr.Blocks(css=custom_css) as demo:\n",
    "\n",
    "    gr.Markdown(\"\"\"\n",
    "    # Fresh vs Rotten Fruit Classifier  \n",
    "    **Upload an image or use your webcam to check if a fruit is Fresh or Rotten.**  \n",
    "    Built with **Convolutional Neural Networks (CNN)** | TensorFlow | Keras | Gradio  \n",
    "    \"\"\")\n",
    "\n",
    "    with gr.Row():\n",
    "        with gr.Column(scale=1):\n",
    "            input_img = gr.Image(\n",
    "                type=\"numpy\",\n",
    "                label=\"Upload or Capture Fruit Image\",\n",
    "                sources=[\"upload\", \"webcam\"],\n",
    "                image_mode=\"RGB\",\n",
    "            )\n",
    "            predict_btn = gr.Button(\"Predict Fruit Condition\")\n",
    "        with gr.Column(scale=1):\n",
    "            output_html = gr.HTML(\n",
    "                value=\"<div class='result-box'>Upload an image or use the webcam to see the prediction here!</div>\",\n",
    "                label=\"Prediction Result\"\n",
    "            )\n",
    "\n",
    "    gr.Markdown(\"\"\"\n",
    "    ---\n",
    "    ### Project Information  \n",
    "    **Model:** Convolutional Neural Network (CNN)  \n",
    "    **Dataset:** Kaggle – Fresh & Rotten Fruits  \n",
    "    **Features:** Image Upload, Webcam Capture, Real-time Prediction  \n",
    "    \"\"\")\n",
    "\n",
    "    predict_btn.click(fn=predict_image, inputs=input_img, outputs=output_html)\n",
    "\n",
    "# ================================\n",
    "# 📌 Launch App\n",
    "# ================================\n",
    "if __name__ == \"__main__\":\n",
    "    demo.launch()\n",
    "```\n",
    "Then run in terminal (inside your project folder):\n",
    "```bash\n",
    "python app.py\n",
    "```\n",
    "> This will start a Gradio server at http://127.0.0.1:7860 and open it in your browser."
   ]
  },
  {
   "cell_type": "markdown",
   "id": "16c6176c-a0d8-45dd-af77-b6ac3354e8ea",
   "metadata": {},
   "source": [
    "#  Gradio App Results\n",
    "\n",
    "Below are some screenshots showing how the **Fresh vs Rotten Fruit Classifier** works in action:\n",
    "\n",
    "\n",
    "## Output 1 – Gradio App Interface\n",
    "![Gradio App UI](screenshots/Output1.PNG)\n",
    "\n",
    "\n",
    "\n",
    "##  Output 2 – Rotten Apple Prediction\n",
    "![Rotten Apple](screenshots/Output2_rotten_apple.PNG)\n",
    "\n",
    "---\n",
    "\n",
    "##  Output 3 – Rotten Orange Prediction\n",
    "![Rotten Orange](screenshots/Output3_rotten_orange.PNG)\n",
    "\n",
    "---\n",
    "\n",
    "## Output 4 – Fresh Apple Prediction\n",
    "![Fresh Apple](screenshots/Output4_fresh_apple.PNG)\n",
    "\n",
    "\n",
    "\n",
    " As we can see, the model is able to **predict fruit freshness vs rottenness** with good confidence for apples, bananas, and oranges.\n"
   ]
  },
  {
   "cell_type": "markdown",
   "id": "f3467135-0dbb-459e-9835-ecf90ea11ea0",
   "metadata": {},
   "source": [
    "# Conclusion\n",
    "This project demonstrates a simple Fresh vs Rotten Fruit Classifier that works for 3 fruits only (Apple, Banana, Orange). While the model provides decent predictions, there are some limitations:\n",
    "\n",
    "-  It only recognizes three fruits, not a wide variety.\n",
    "\n",
    "-  The dataset used is relatively small, so the model may not generalize well to unseen data.\n",
    "\n",
    "-  Deep learning models generally require a lot more data and training time for better accuracy.\n",
    "\n",
    " Despite these limitations, this project shows how Computer Vision + Deep Learning can be applied in real-world scenarios like food quality detection. With a larger dataset and more advanced models, the classifier could become much more reliable and accurate."
   ]
  }
 ],
 "metadata": {
  "kernelspec": {
   "display_name": "Python 3 (ipykernel)",
   "language": "python",
   "name": "python3"
  },
  "language_info": {
   "codemirror_mode": {
    "name": "ipython",
    "version": 3
   },
   "file_extension": ".py",
   "mimetype": "text/x-python",
   "name": "python",
   "nbconvert_exporter": "python",
   "pygments_lexer": "ipython3",
   "version": "3.13.5"
  }
 },
 "nbformat": 4,
 "nbformat_minor": 5
}
